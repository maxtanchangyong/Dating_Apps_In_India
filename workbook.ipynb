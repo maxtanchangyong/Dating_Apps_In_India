{
 "cells": [
  {
   "cell_type": "code",
   "execution_count": 1,
   "id": "7aa4382f",
   "metadata": {},
   "outputs": [],
   "source": [
    "import numpy as np\n",
    "import pandas as pd\n",
    "import matplotlib.pyplot as plt\n",
    "import seaborn as sb\n",
    "\n",
    "%matplotlib inline"
   ]
  },
  {
   "cell_type": "code",
   "execution_count": 37,
   "id": "92a384ec",
   "metadata": {},
   "outputs": [],
   "source": [
    "import pickle"
   ]
  },
  {
   "cell_type": "code",
   "execution_count": 2,
   "id": "55fb63f2",
   "metadata": {},
   "outputs": [],
   "source": [
    "dataset = pd.read_csv(\"C:/Users/Forge-15 1650/Documents/Datasets/DatingAppReviewsDataset.csv\")"
   ]
  },
  {
   "cell_type": "code",
   "execution_count": 3,
   "id": "a214bb0e",
   "metadata": {},
   "outputs": [
    {
     "data": {
      "text/html": [
       "<div>\n",
       "<style scoped>\n",
       "    .dataframe tbody tr th:only-of-type {\n",
       "        vertical-align: middle;\n",
       "    }\n",
       "\n",
       "    .dataframe tbody tr th {\n",
       "        vertical-align: top;\n",
       "    }\n",
       "\n",
       "    .dataframe thead th {\n",
       "        text-align: right;\n",
       "    }\n",
       "</style>\n",
       "<table border=\"1\" class=\"dataframe\">\n",
       "  <thead>\n",
       "    <tr style=\"text-align: right;\">\n",
       "      <th></th>\n",
       "      <th>Unnamed: 0</th>\n",
       "      <th>Name</th>\n",
       "      <th>Review</th>\n",
       "      <th>Rating</th>\n",
       "      <th>#ThumbsUp</th>\n",
       "      <th>Date&amp;Time</th>\n",
       "      <th>App</th>\n",
       "    </tr>\n",
       "  </thead>\n",
       "  <tbody>\n",
       "    <tr>\n",
       "      <th>0</th>\n",
       "      <td>0</td>\n",
       "      <td>linah sibanda</td>\n",
       "      <td>On this app i cant find a partner</td>\n",
       "      <td>5</td>\n",
       "      <td>0</td>\n",
       "      <td>18-02-2022 01:19</td>\n",
       "      <td>Tinder</td>\n",
       "    </tr>\n",
       "    <tr>\n",
       "      <th>1</th>\n",
       "      <td>1</td>\n",
       "      <td>Norman Johnson</td>\n",
       "      <td>Tinder would be so much better if we could spe...</td>\n",
       "      <td>3</td>\n",
       "      <td>0</td>\n",
       "      <td>18-02-2022 01:16</td>\n",
       "      <td>Tinder</td>\n",
       "    </tr>\n",
       "    <tr>\n",
       "      <th>2</th>\n",
       "      <td>2</td>\n",
       "      <td>David Hume</td>\n",
       "      <td>Still doesn't correctly notify matches or mess...</td>\n",
       "      <td>1</td>\n",
       "      <td>0</td>\n",
       "      <td>18-02-2022 01:11</td>\n",
       "      <td>Tinder</td>\n",
       "    </tr>\n",
       "    <tr>\n",
       "      <th>3</th>\n",
       "      <td>3</td>\n",
       "      <td>Last 1 Standing</td>\n",
       "      <td>Got banned because I updated my bio to say \"I ...</td>\n",
       "      <td>2</td>\n",
       "      <td>0</td>\n",
       "      <td>18-02-2022 01:11</td>\n",
       "      <td>Tinder</td>\n",
       "    </tr>\n",
       "    <tr>\n",
       "      <th>4</th>\n",
       "      <td>4</td>\n",
       "      <td>Arthur Magamedov</td>\n",
       "      <td>Love it!</td>\n",
       "      <td>5</td>\n",
       "      <td>0</td>\n",
       "      <td>18-02-2022 01:06</td>\n",
       "      <td>Tinder</td>\n",
       "    </tr>\n",
       "  </tbody>\n",
       "</table>\n",
       "</div>"
      ],
      "text/plain": [
       "   Unnamed: 0              Name  \\\n",
       "0           0     linah sibanda   \n",
       "1           1    Norman Johnson   \n",
       "2           2        David Hume   \n",
       "3           3   Last 1 Standing   \n",
       "4           4  Arthur Magamedov   \n",
       "\n",
       "                                              Review  Rating  #ThumbsUp  \\\n",
       "0                  On this app i cant find a partner       5          0   \n",
       "1  Tinder would be so much better if we could spe...       3          0   \n",
       "2  Still doesn't correctly notify matches or mess...       1          0   \n",
       "3  Got banned because I updated my bio to say \"I ...       2          0   \n",
       "4                                           Love it!       5          0   \n",
       "\n",
       "          Date&Time     App  \n",
       "0  18-02-2022 01:19  Tinder  \n",
       "1  18-02-2022 01:16  Tinder  \n",
       "2  18-02-2022 01:11  Tinder  \n",
       "3  18-02-2022 01:11  Tinder  \n",
       "4  18-02-2022 01:06  Tinder  "
      ]
     },
     "execution_count": 3,
     "metadata": {},
     "output_type": "execute_result"
    }
   ],
   "source": [
    "dataset.head()"
   ]
  },
  {
   "cell_type": "code",
   "execution_count": 4,
   "id": "20984d44",
   "metadata": {},
   "outputs": [
    {
     "data": {
      "text/plain": [
       "(681994, 7)"
      ]
     },
     "execution_count": 4,
     "metadata": {},
     "output_type": "execute_result"
    }
   ],
   "source": [
    "dataset.shape"
   ]
  },
  {
   "cell_type": "code",
   "execution_count": 5,
   "id": "cb5efd66",
   "metadata": {
    "scrolled": true
   },
   "outputs": [
    {
     "data": {
      "text/plain": [
       "Index(['Unnamed: 0', 'Name', 'Review', 'Rating', '#ThumbsUp', 'Date&Time',\n",
       "       'App'],\n",
       "      dtype='object')"
      ]
     },
     "execution_count": 5,
     "metadata": {},
     "output_type": "execute_result"
    }
   ],
   "source": [
    "dataset.columns"
   ]
  },
  {
   "cell_type": "code",
   "execution_count": 6,
   "id": "d4da885e",
   "metadata": {
    "scrolled": true
   },
   "outputs": [
    {
     "data": {
      "text/plain": [
       "Unnamed: 0       0\n",
       "Name             5\n",
       "Review        1352\n",
       "Rating           0\n",
       "#ThumbsUp        0\n",
       "Date&Time        0\n",
       "App              0\n",
       "dtype: int64"
      ]
     },
     "execution_count": 6,
     "metadata": {},
     "output_type": "execute_result"
    }
   ],
   "source": [
    "dataset.isnull().sum()"
   ]
  },
  {
   "cell_type": "code",
   "execution_count": 7,
   "id": "bfc867fb",
   "metadata": {},
   "outputs": [
    {
     "data": {
      "text/html": [
       "<div>\n",
       "<style scoped>\n",
       "    .dataframe tbody tr th:only-of-type {\n",
       "        vertical-align: middle;\n",
       "    }\n",
       "\n",
       "    .dataframe tbody tr th {\n",
       "        vertical-align: top;\n",
       "    }\n",
       "\n",
       "    .dataframe thead th {\n",
       "        text-align: right;\n",
       "    }\n",
       "</style>\n",
       "<table border=\"1\" class=\"dataframe\">\n",
       "  <thead>\n",
       "    <tr style=\"text-align: right;\">\n",
       "      <th></th>\n",
       "      <th>Name</th>\n",
       "      <th>Review</th>\n",
       "      <th>Rating</th>\n",
       "      <th>#ThumbsUp</th>\n",
       "      <th>Date&amp;Time</th>\n",
       "      <th>App</th>\n",
       "    </tr>\n",
       "  </thead>\n",
       "  <tbody>\n",
       "    <tr>\n",
       "      <th>0</th>\n",
       "      <td>linah sibanda</td>\n",
       "      <td>On this app i cant find a partner</td>\n",
       "      <td>5</td>\n",
       "      <td>0</td>\n",
       "      <td>18-02-2022 01:19</td>\n",
       "      <td>Tinder</td>\n",
       "    </tr>\n",
       "    <tr>\n",
       "      <th>1</th>\n",
       "      <td>Norman Johnson</td>\n",
       "      <td>Tinder would be so much better if we could spe...</td>\n",
       "      <td>3</td>\n",
       "      <td>0</td>\n",
       "      <td>18-02-2022 01:16</td>\n",
       "      <td>Tinder</td>\n",
       "    </tr>\n",
       "    <tr>\n",
       "      <th>2</th>\n",
       "      <td>David Hume</td>\n",
       "      <td>Still doesn't correctly notify matches or mess...</td>\n",
       "      <td>1</td>\n",
       "      <td>0</td>\n",
       "      <td>18-02-2022 01:11</td>\n",
       "      <td>Tinder</td>\n",
       "    </tr>\n",
       "    <tr>\n",
       "      <th>3</th>\n",
       "      <td>Last 1 Standing</td>\n",
       "      <td>Got banned because I updated my bio to say \"I ...</td>\n",
       "      <td>2</td>\n",
       "      <td>0</td>\n",
       "      <td>18-02-2022 01:11</td>\n",
       "      <td>Tinder</td>\n",
       "    </tr>\n",
       "    <tr>\n",
       "      <th>4</th>\n",
       "      <td>Arthur Magamedov</td>\n",
       "      <td>Love it!</td>\n",
       "      <td>5</td>\n",
       "      <td>0</td>\n",
       "      <td>18-02-2022 01:06</td>\n",
       "      <td>Tinder</td>\n",
       "    </tr>\n",
       "    <tr>\n",
       "      <th>...</th>\n",
       "      <td>...</td>\n",
       "      <td>...</td>\n",
       "      <td>...</td>\n",
       "      <td>...</td>\n",
       "      <td>...</td>\n",
       "      <td>...</td>\n",
       "    </tr>\n",
       "    <tr>\n",
       "      <th>681989</th>\n",
       "      <td>A Google user</td>\n",
       "      <td>Useless - I'm in the UK and it tells me i'm ov...</td>\n",
       "      <td>2</td>\n",
       "      <td>5</td>\n",
       "      <td>12-07-2017 01:44</td>\n",
       "      <td>Hinge</td>\n",
       "    </tr>\n",
       "    <tr>\n",
       "      <th>681990</th>\n",
       "      <td>Brian Shook</td>\n",
       "      <td>I can't get past the initial set up.  It won't...</td>\n",
       "      <td>1</td>\n",
       "      <td>11</td>\n",
       "      <td>12-07-2017 01:36</td>\n",
       "      <td>Hinge</td>\n",
       "    </tr>\n",
       "    <tr>\n",
       "      <th>681991</th>\n",
       "      <td>A Google user</td>\n",
       "      <td>This is incredible! A quality dating app for A...</td>\n",
       "      <td>5</td>\n",
       "      <td>1</td>\n",
       "      <td>12-07-2017 01:32</td>\n",
       "      <td>Hinge</td>\n",
       "    </tr>\n",
       "    <tr>\n",
       "      <th>681992</th>\n",
       "      <td>A Google user</td>\n",
       "      <td>\"Over Water\" ... Can't choose location.</td>\n",
       "      <td>2</td>\n",
       "      <td>8</td>\n",
       "      <td>12-07-2017 01:28</td>\n",
       "      <td>Hinge</td>\n",
       "    </tr>\n",
       "    <tr>\n",
       "      <th>681993</th>\n",
       "      <td>Dylan Fick</td>\n",
       "      <td>My entire town counts as \"over water\" and I ca...</td>\n",
       "      <td>2</td>\n",
       "      <td>15</td>\n",
       "      <td>12-07-2017 01:24</td>\n",
       "      <td>Hinge</td>\n",
       "    </tr>\n",
       "  </tbody>\n",
       "</table>\n",
       "<p>681994 rows × 6 columns</p>\n",
       "</div>"
      ],
      "text/plain": [
       "                    Name                                             Review  \\\n",
       "0          linah sibanda                  On this app i cant find a partner   \n",
       "1         Norman Johnson  Tinder would be so much better if we could spe...   \n",
       "2             David Hume  Still doesn't correctly notify matches or mess...   \n",
       "3        Last 1 Standing  Got banned because I updated my bio to say \"I ...   \n",
       "4       Arthur Magamedov                                           Love it!   \n",
       "...                  ...                                                ...   \n",
       "681989     A Google user  Useless - I'm in the UK and it tells me i'm ov...   \n",
       "681990       Brian Shook  I can't get past the initial set up.  It won't...   \n",
       "681991     A Google user  This is incredible! A quality dating app for A...   \n",
       "681992     A Google user            \"Over Water\" ... Can't choose location.   \n",
       "681993        Dylan Fick  My entire town counts as \"over water\" and I ca...   \n",
       "\n",
       "        Rating  #ThumbsUp         Date&Time     App  \n",
       "0            5          0  18-02-2022 01:19  Tinder  \n",
       "1            3          0  18-02-2022 01:16  Tinder  \n",
       "2            1          0  18-02-2022 01:11  Tinder  \n",
       "3            2          0  18-02-2022 01:11  Tinder  \n",
       "4            5          0  18-02-2022 01:06  Tinder  \n",
       "...        ...        ...               ...     ...  \n",
       "681989       2          5  12-07-2017 01:44   Hinge  \n",
       "681990       1         11  12-07-2017 01:36   Hinge  \n",
       "681991       5          1  12-07-2017 01:32   Hinge  \n",
       "681992       2          8  12-07-2017 01:28   Hinge  \n",
       "681993       2         15  12-07-2017 01:24   Hinge  \n",
       "\n",
       "[681994 rows x 6 columns]"
      ]
     },
     "execution_count": 7,
     "metadata": {},
     "output_type": "execute_result"
    }
   ],
   "source": [
    "dataset = dataset.drop([\"Unnamed: 0\"], axis=1)\n",
    "dataset"
   ]
  },
  {
   "cell_type": "code",
   "execution_count": 8,
   "id": "bdc1f3bc",
   "metadata": {},
   "outputs": [
    {
     "data": {
      "text/plain": [
       "Name         object\n",
       "Review       object\n",
       "Rating        int64\n",
       "#ThumbsUp     int64\n",
       "Date&Time    object\n",
       "App          object\n",
       "dtype: object"
      ]
     },
     "execution_count": 8,
     "metadata": {},
     "output_type": "execute_result"
    }
   ],
   "source": [
    "dataset.dtypes"
   ]
  },
  {
   "cell_type": "code",
   "execution_count": 9,
   "id": "3cb986b5",
   "metadata": {},
   "outputs": [
    {
     "data": {
      "text/html": [
       "<div>\n",
       "<style scoped>\n",
       "    .dataframe tbody tr th:only-of-type {\n",
       "        vertical-align: middle;\n",
       "    }\n",
       "\n",
       "    .dataframe tbody tr th {\n",
       "        vertical-align: top;\n",
       "    }\n",
       "\n",
       "    .dataframe thead th {\n",
       "        text-align: right;\n",
       "    }\n",
       "</style>\n",
       "<table border=\"1\" class=\"dataframe\">\n",
       "  <thead>\n",
       "    <tr style=\"text-align: right;\">\n",
       "      <th></th>\n",
       "      <th>Name</th>\n",
       "      <th>Review</th>\n",
       "      <th>Rating</th>\n",
       "      <th>#ThumbsUp</th>\n",
       "      <th>Date&amp;Time</th>\n",
       "      <th>App</th>\n",
       "    </tr>\n",
       "  </thead>\n",
       "  <tbody>\n",
       "    <tr>\n",
       "      <th>0</th>\n",
       "      <td>linah sibanda</td>\n",
       "      <td>On this app i cant find a partner</td>\n",
       "      <td>5</td>\n",
       "      <td>0</td>\n",
       "      <td>18-02-2022 01:19</td>\n",
       "      <td>Tinder</td>\n",
       "    </tr>\n",
       "    <tr>\n",
       "      <th>1</th>\n",
       "      <td>Norman Johnson</td>\n",
       "      <td>Tinder would be so much better if we could spe...</td>\n",
       "      <td>3</td>\n",
       "      <td>0</td>\n",
       "      <td>18-02-2022 01:16</td>\n",
       "      <td>Tinder</td>\n",
       "    </tr>\n",
       "    <tr>\n",
       "      <th>2</th>\n",
       "      <td>David Hume</td>\n",
       "      <td>Still doesn't correctly notify matches or mess...</td>\n",
       "      <td>1</td>\n",
       "      <td>0</td>\n",
       "      <td>18-02-2022 01:11</td>\n",
       "      <td>Tinder</td>\n",
       "    </tr>\n",
       "    <tr>\n",
       "      <th>3</th>\n",
       "      <td>Last 1 Standing</td>\n",
       "      <td>Got banned because I updated my bio to say \"I ...</td>\n",
       "      <td>2</td>\n",
       "      <td>0</td>\n",
       "      <td>18-02-2022 01:11</td>\n",
       "      <td>Tinder</td>\n",
       "    </tr>\n",
       "    <tr>\n",
       "      <th>4</th>\n",
       "      <td>Arthur Magamedov</td>\n",
       "      <td>Love it!</td>\n",
       "      <td>5</td>\n",
       "      <td>0</td>\n",
       "      <td>18-02-2022 01:06</td>\n",
       "      <td>Tinder</td>\n",
       "    </tr>\n",
       "  </tbody>\n",
       "</table>\n",
       "</div>"
      ],
      "text/plain": [
       "               Name                                             Review  \\\n",
       "0     linah sibanda                  On this app i cant find a partner   \n",
       "1    Norman Johnson  Tinder would be so much better if we could spe...   \n",
       "2        David Hume  Still doesn't correctly notify matches or mess...   \n",
       "3   Last 1 Standing  Got banned because I updated my bio to say \"I ...   \n",
       "4  Arthur Magamedov                                           Love it!   \n",
       "\n",
       "   Rating  #ThumbsUp         Date&Time     App  \n",
       "0       5          0  18-02-2022 01:19  Tinder  \n",
       "1       3          0  18-02-2022 01:16  Tinder  \n",
       "2       1          0  18-02-2022 01:11  Tinder  \n",
       "3       2          0  18-02-2022 01:11  Tinder  \n",
       "4       5          0  18-02-2022 01:06  Tinder  "
      ]
     },
     "execution_count": 9,
     "metadata": {},
     "output_type": "execute_result"
    }
   ],
   "source": [
    "dataset.head()"
   ]
  },
  {
   "cell_type": "markdown",
   "id": "bb1feecf",
   "metadata": {},
   "source": [
    "# Data Preparation"
   ]
  },
  {
   "cell_type": "code",
   "execution_count": 10,
   "id": "c7eeb87a",
   "metadata": {},
   "outputs": [],
   "source": [
    "dataset.columns = ['name', 'review', 'rating', 'thumbs_up', 'date_time', 'app']"
   ]
  },
  {
   "cell_type": "code",
   "execution_count": 11,
   "id": "7bc3b612",
   "metadata": {},
   "outputs": [],
   "source": [
    "dataset['date_time'] = pd.to_datetime(dataset['date_time'])"
   ]
  },
  {
   "cell_type": "code",
   "execution_count": 12,
   "id": "ea2112be",
   "metadata": {},
   "outputs": [],
   "source": [
    "dataset['review'] = dataset['review'].fillna(\"no review\")\n",
    "dataset['review'] = dataset['review'].astype(\"str\")"
   ]
  },
  {
   "cell_type": "code",
   "execution_count": 13,
   "id": "8b6af230",
   "metadata": {},
   "outputs": [],
   "source": [
    "dataset['name'] = dataset['name'].fillna(\"no name\")"
   ]
  },
  {
   "cell_type": "code",
   "execution_count": 14,
   "id": "652dec39",
   "metadata": {},
   "outputs": [],
   "source": [
    "# remove those rating is '0' because it is pointless\n",
    "dataset = dataset[dataset['rating'] != 0]"
   ]
  },
  {
   "cell_type": "code",
   "execution_count": 38,
   "id": "709e51c0",
   "metadata": {},
   "outputs": [],
   "source": [
    "# store the dataset for future usage\n",
    "with open(\"C:/Users/Forge-15 1650/Google Drive/Portfolio/Playground/dating.pickle\", 'wb') as output:\n",
    "    pickle.dump(dataset, output)"
   ]
  },
  {
   "cell_type": "markdown",
   "id": "e29b6e88",
   "metadata": {},
   "source": [
    "# Data Observation\n",
    "\n",
    "## Future usage, starts here:"
   ]
  },
  {
   "cell_type": "code",
   "execution_count": 39,
   "id": "3ebdbf76",
   "metadata": {},
   "outputs": [],
   "source": [
    "dataset = pd.read_pickle(\"./dating.pickle\")"
   ]
  },
  {
   "cell_type": "code",
   "execution_count": 15,
   "id": "d165a90c",
   "metadata": {},
   "outputs": [],
   "source": [
    "sb.set_style(\"whitegrid\")"
   ]
  },
  {
   "cell_type": "code",
   "execution_count": 16,
   "id": "aa45b09d",
   "metadata": {},
   "outputs": [],
   "source": [
    "tinder = dataset.app.value_counts()[0]\n",
    "bumble = dataset.app.value_counts()[1]\n",
    "hinge = dataset.app.value_counts()[2]"
   ]
  },
  {
   "cell_type": "code",
   "execution_count": 17,
   "id": "aabd3012",
   "metadata": {},
   "outputs": [
    {
     "data": {
      "image/png": "[encoded data removed]",
      "text/plain": [
       "<Figure size 432x288 with 1 Axes>"
      ]
     },
     "metadata": {},
     "output_type": "display_data"
    }
   ],
   "source": [
    "# Pie chart, where the slices will be ordered and plotted counter-clockwise:\n",
    "labels = ['Tinder', 'Bumble', 'Hinge']\n",
    "sizes = [tinder, bumble, hinge]\n",
    "values = [tinder, bumble, hinge]\n",
    "explode = (0.1, 0.1, 0.1)  # only \"explode\" the 2nd slice (i.e. 'Hogs')\n",
    "\n",
    "\"\"\"\n",
    "def make_autopct(values):\n",
    "    def my_autopct(pct):\n",
    "        total = sum(values)\n",
    "        val = int(round(pct*total/100.0))\n",
    "        return '{p:.2f}%  ({v:d})'.format(p=pct,v=val)\n",
    "    return my_autopct\n",
    "\"\"\"\n",
    "\n",
    "def make_autopct(values):\n",
    "    def my_autopct(pct):\n",
    "        total = sum(values)\n",
    "        val = int(round(pct*total/100.0))\n",
    "        return '{p:.2f}%'.format(p=pct)\n",
    "    return my_autopct\n",
    "\n",
    "fig1, ax1 = plt.subplots()\n",
    "fig1.subplots_adjust(0.1,0)\n",
    "ax1.pie(sizes, explode=explode, labels=labels, autopct=make_autopct(values),shadow=True, startangle=180)\n",
    "# ax1.pie(sizes, explode=explode, labels=labels,shadow=True, startangle=180)\n",
    "ax1.axis('equal')  # Equal aspect ratio ensures that pie is drawn as a circle.\n",
    "plt.title(\"Dating Apps Proportions\", bbox={'facecolor':'0.8', 'pad':5})\n",
    "\n",
    "plt.show()"
   ]
  },
  {
   "cell_type": "code",
   "execution_count": 18,
   "id": "1842f90c",
   "metadata": {},
   "outputs": [
    {
     "data": {
      "text/plain": [
       "0      560697\n",
       "1       68141\n",
       "2       17788\n",
       "3        7364\n",
       "4        4309\n",
       "        ...  \n",
       "820         1\n",
       "732         1\n",
       "706         1\n",
       "785         1\n",
       "450         1\n",
       "Name: thumbs_up, Length: 683, dtype: int64"
      ]
     },
     "execution_count": 18,
     "metadata": {},
     "output_type": "execute_result"
    }
   ],
   "source": [
    "dataset['thumbs_up'].value_counts()"
   ]
  },
  {
   "cell_type": "markdown",
   "id": "4a6116ab",
   "metadata": {},
   "source": [
    "## 1. Ratings quantity on each app (make an average score)\n",
    "## 2. reviews quantity on each app (make an average score)\n",
    "## 3. The time of people making the review on each app\n",
    "\n",
    "---------------------------------------------------------"
   ]
  },
  {
   "cell_type": "markdown",
   "id": "4d082383",
   "metadata": {},
   "source": [
    "# 1. Ratings quantity on each app (make an average score)"
   ]
  },
  {
   "cell_type": "code",
   "execution_count": 19,
   "id": "ce12f995",
   "metadata": {},
   "outputs": [],
   "source": [
    "ratings_analyst = dataset[['app', 'rating']]"
   ]
  },
  {
   "cell_type": "code",
   "execution_count": 20,
   "id": "b4eb9935",
   "metadata": {},
   "outputs": [
    {
     "data": {
      "text/plain": [
       "1    195637\n",
       "2     38072\n",
       "3     42828\n",
       "4     65141\n",
       "5    184937\n",
       "Name: rating, dtype: int64"
      ]
     },
     "execution_count": 20,
     "metadata": {},
     "output_type": "execute_result"
    }
   ],
   "source": [
    "# need to remove that '0' rating lol\n",
    "ratings_analyst[ratings_analyst['app'] == \"Tinder\"]['rating'].value_counts().sort_index()"
   ]
  },
  {
   "cell_type": "code",
   "execution_count": 21,
   "id": "08ababab",
   "metadata": {},
   "outputs": [
    {
     "data": {
      "text/plain": [
       "1    40412\n",
       "2     9674\n",
       "3     8841\n",
       "4    13589\n",
       "5    29868\n",
       "Name: rating, dtype: int64"
      ]
     },
     "execution_count": 21,
     "metadata": {},
     "output_type": "execute_result"
    }
   ],
   "source": [
    "ratings_analyst[ratings_analyst['app'] == \"Bumble\"]['rating'].value_counts().sort_index()"
   ]
  },
  {
   "cell_type": "code",
   "execution_count": 22,
   "id": "e0858a87",
   "metadata": {},
   "outputs": [
    {
     "data": {
      "text/plain": [
       "1    15920\n",
       "2     4509\n",
       "3     5289\n",
       "4     8617\n",
       "5    18659\n",
       "Name: rating, dtype: int64"
      ]
     },
     "execution_count": 22,
     "metadata": {},
     "output_type": "execute_result"
    }
   ],
   "source": [
    "ratings_analyst[ratings_analyst['app'] == \"Hinge\"]['rating'].value_counts().sort_index()"
   ]
  },
  {
   "cell_type": "code",
   "execution_count": 23,
   "id": "a7463f14",
   "metadata": {},
   "outputs": [
    {
     "data": {
      "text/html": [
       "<div>\n",
       "<style scoped>\n",
       "    .dataframe tbody tr th:only-of-type {\n",
       "        vertical-align: middle;\n",
       "    }\n",
       "\n",
       "    .dataframe tbody tr th {\n",
       "        vertical-align: top;\n",
       "    }\n",
       "\n",
       "    .dataframe thead th {\n",
       "        text-align: right;\n",
       "    }\n",
       "</style>\n",
       "<table border=\"1\" class=\"dataframe\">\n",
       "  <thead>\n",
       "    <tr style=\"text-align: right;\">\n",
       "      <th></th>\n",
       "      <th>rating</th>\n",
       "      <th>counts</th>\n",
       "    </tr>\n",
       "  </thead>\n",
       "  <tbody>\n",
       "    <tr>\n",
       "      <th>0</th>\n",
       "      <td>1</td>\n",
       "      <td>195637</td>\n",
       "    </tr>\n",
       "    <tr>\n",
       "      <th>1</th>\n",
       "      <td>2</td>\n",
       "      <td>38072</td>\n",
       "    </tr>\n",
       "    <tr>\n",
       "      <th>2</th>\n",
       "      <td>3</td>\n",
       "      <td>42828</td>\n",
       "    </tr>\n",
       "    <tr>\n",
       "      <th>3</th>\n",
       "      <td>4</td>\n",
       "      <td>65141</td>\n",
       "    </tr>\n",
       "    <tr>\n",
       "      <th>4</th>\n",
       "      <td>5</td>\n",
       "      <td>184937</td>\n",
       "    </tr>\n",
       "  </tbody>\n",
       "</table>\n",
       "</div>"
      ],
      "text/plain": [
       "   rating  counts\n",
       "0       1  195637\n",
       "1       2   38072\n",
       "2       3   42828\n",
       "3       4   65141\n",
       "4       5  184937"
      ]
     },
     "execution_count": 23,
     "metadata": {},
     "output_type": "execute_result"
    }
   ],
   "source": [
    "ratings_analyst[ratings_analyst['app'] == \"Tinder\"]['rating'].value_counts().sort_index().rename_axis('rating').reset_index(name='counts')"
   ]
  },
  {
   "cell_type": "code",
   "execution_count": 24,
   "id": "7953dea9",
   "metadata": {},
   "outputs": [
    {
     "data": {
      "image/png": "[encoded data removed]",
      "text/plain": [
       "<Figure size 720x360 with 1 Axes>"
      ]
     },
     "metadata": {},
     "output_type": "display_data"
    }
   ],
   "source": [
    "tinder_rating = ratings_analyst[ratings_analyst['app'] == \"Tinder\"]['rating'].value_counts().sort_index().rename_axis('rating').reset_index(name='counts')\n",
    "\n",
    "labels = tinder_rating['rating'].tolist()\n",
    "\n",
    "plt.figure(figsize=(10,5))\n",
    "ax = sb.barplot(data=tinder_rating,\n",
    "                x='rating', \n",
    "                y='counts', \n",
    "                hue='rating', \n",
    "                hue_order=labels, dodge=False)\n",
    "ax.set_title(\"The Quantity of each Rating Category in Tinder\", fontsize=20)\n",
    "ax.set_ylabel(\"Rating Quantities\", fontsize=15)\n",
    "ax.set_xlabel(\"Rating\", fontsize=15)\n",
    "ax.set(xticklabels=[])\n",
    "\n",
    "for index, row in tinder_rating.iterrows():\n",
    "    ax.text(row.name,row.counts, row.counts, color='black', ha=\"center\")\n",
    "\n",
    "plt.legend(bbox_to_anchor=(1.05, 1), loc=2, borderaxespad=0.)\n",
    "plt.show()"
   ]
  },
  {
   "cell_type": "code",
   "execution_count": 25,
   "id": "f6d3bc91",
   "metadata": {},
   "outputs": [
    {
     "data": {
      "image/png": "[encoded data removed]",
      "text/plain": [
       "<Figure size 720x360 with 1 Axes>"
      ]
     },
     "metadata": {},
     "output_type": "display_data"
    }
   ],
   "source": [
    "bumble_rating = ratings_analyst[ratings_analyst['app'] == \"Bumble\"]['rating'].value_counts().sort_index().rename_axis('rating').reset_index(name='counts')\n",
    "\n",
    "labels = bumble_rating['rating'].tolist()\n",
    "\n",
    "plt.figure(figsize=(10,5))\n",
    "ax = sb.barplot(data=bumble_rating,\n",
    "                x='rating', \n",
    "                y='counts', \n",
    "                hue='rating', \n",
    "                hue_order=labels, dodge=False)\n",
    "ax.set_title(\"The Quantity of each Rating Category in Bumble\", fontsize=20)\n",
    "ax.set_ylabel(\"Rating Quantities\", fontsize=15)\n",
    "ax.set_xlabel(\"Rating\", fontsize=15)\n",
    "ax.set(xticklabels=[])\n",
    "\n",
    "for index, row in bumble_rating.iterrows():\n",
    "    ax.text(row.name,row.counts, row.counts, color='black', ha=\"center\")\n",
    "\n",
    "plt.legend(bbox_to_anchor=(1.05, 1), loc=2, borderaxespad=0.)\n",
    "plt.show()"
   ]
  },
  {
   "cell_type": "code",
   "execution_count": 26,
   "id": "5d3d9861",
   "metadata": {},
   "outputs": [
    {
     "data": {
      "image/png": "[encoded data removed]",
      "text/plain": [
       "<Figure size 720x360 with 1 Axes>"
      ]
     },
     "metadata": {},
     "output_type": "display_data"
    }
   ],
   "source": [
    "hinge_rating = ratings_analyst[ratings_analyst['app'] == \"Hinge\"]['rating'].value_counts().sort_index().rename_axis('rating').reset_index(name='counts')\n",
    "\n",
    "labels = hinge_rating['rating'].tolist()\n",
    "\n",
    "plt.figure(figsize=(10,5))\n",
    "ax = sb.barplot(data=hinge_rating,\n",
    "                x='rating', \n",
    "                y='counts', \n",
    "                hue='rating', \n",
    "                hue_order=labels, dodge=False)\n",
    "ax.set_title(\"The Quantity of each Rating Category in Hinge\", fontsize=20)\n",
    "ax.set_ylabel(\"Rating Quantities\", fontsize=15)\n",
    "ax.set_xlabel(\"Rating\", fontsize=15)\n",
    "ax.set(xticklabels=[])\n",
    "\n",
    "for index, row in hinge_rating.iterrows():\n",
    "    ax.text(row.name,row.counts, row.counts, color='black', ha=\"center\")\n",
    "\n",
    "plt.legend(bbox_to_anchor=(1.05, 1), loc=2, borderaxespad=0.)\n",
    "plt.show()"
   ]
  },
  {
   "cell_type": "markdown",
   "id": "2d62f5a4",
   "metadata": {},
   "source": [
    "# 2. reviews quantity on each app (make an average score)"
   ]
  },
  {
   "cell_type": "code",
   "execution_count": 27,
   "id": "b4a7e32a",
   "metadata": {},
   "outputs": [],
   "source": [
    "reviews_analyst = dataset[['app', 'review']]"
   ]
  },
  {
   "cell_type": "code",
   "execution_count": 28,
   "id": "fc137970",
   "metadata": {},
   "outputs": [
    {
     "data": {
      "text/html": [
       "<div>\n",
       "<style scoped>\n",
       "    .dataframe tbody tr th:only-of-type {\n",
       "        vertical-align: middle;\n",
       "    }\n",
       "\n",
       "    .dataframe tbody tr th {\n",
       "        vertical-align: top;\n",
       "    }\n",
       "\n",
       "    .dataframe thead th {\n",
       "        text-align: right;\n",
       "    }\n",
       "</style>\n",
       "<table border=\"1\" class=\"dataframe\">\n",
       "  <thead>\n",
       "    <tr style=\"text-align: right;\">\n",
       "      <th></th>\n",
       "      <th>app</th>\n",
       "      <th>review</th>\n",
       "    </tr>\n",
       "  </thead>\n",
       "  <tbody>\n",
       "    <tr>\n",
       "      <th>0</th>\n",
       "      <td>Tinder</td>\n",
       "      <td>On this app i cant find a partner</td>\n",
       "    </tr>\n",
       "    <tr>\n",
       "      <th>1</th>\n",
       "      <td>Tinder</td>\n",
       "      <td>Tinder would be so much better if we could spe...</td>\n",
       "    </tr>\n",
       "    <tr>\n",
       "      <th>2</th>\n",
       "      <td>Tinder</td>\n",
       "      <td>Still doesn't correctly notify matches or mess...</td>\n",
       "    </tr>\n",
       "    <tr>\n",
       "      <th>3</th>\n",
       "      <td>Tinder</td>\n",
       "      <td>Got banned because I updated my bio to say \"I ...</td>\n",
       "    </tr>\n",
       "    <tr>\n",
       "      <th>4</th>\n",
       "      <td>Tinder</td>\n",
       "      <td>Love it!</td>\n",
       "    </tr>\n",
       "    <tr>\n",
       "      <th>...</th>\n",
       "      <td>...</td>\n",
       "      <td>...</td>\n",
       "    </tr>\n",
       "    <tr>\n",
       "      <th>681989</th>\n",
       "      <td>Hinge</td>\n",
       "      <td>Useless - I'm in the UK and it tells me i'm ov...</td>\n",
       "    </tr>\n",
       "    <tr>\n",
       "      <th>681990</th>\n",
       "      <td>Hinge</td>\n",
       "      <td>I can't get past the initial set up.  It won't...</td>\n",
       "    </tr>\n",
       "    <tr>\n",
       "      <th>681991</th>\n",
       "      <td>Hinge</td>\n",
       "      <td>This is incredible! A quality dating app for A...</td>\n",
       "    </tr>\n",
       "    <tr>\n",
       "      <th>681992</th>\n",
       "      <td>Hinge</td>\n",
       "      <td>\"Over Water\" ... Can't choose location.</td>\n",
       "    </tr>\n",
       "    <tr>\n",
       "      <th>681993</th>\n",
       "      <td>Hinge</td>\n",
       "      <td>My entire town counts as \"over water\" and I ca...</td>\n",
       "    </tr>\n",
       "  </tbody>\n",
       "</table>\n",
       "<p>681993 rows × 2 columns</p>\n",
       "</div>"
      ],
      "text/plain": [
       "           app                                             review\n",
       "0       Tinder                  On this app i cant find a partner\n",
       "1       Tinder  Tinder would be so much better if we could spe...\n",
       "2       Tinder  Still doesn't correctly notify matches or mess...\n",
       "3       Tinder  Got banned because I updated my bio to say \"I ...\n",
       "4       Tinder                                           Love it!\n",
       "...        ...                                                ...\n",
       "681989   Hinge  Useless - I'm in the UK and it tells me i'm ov...\n",
       "681990   Hinge  I can't get past the initial set up.  It won't...\n",
       "681991   Hinge  This is incredible! A quality dating app for A...\n",
       "681992   Hinge            \"Over Water\" ... Can't choose location.\n",
       "681993   Hinge  My entire town counts as \"over water\" and I ca...\n",
       "\n",
       "[681993 rows x 2 columns]"
      ]
     },
     "execution_count": 28,
     "metadata": {},
     "output_type": "execute_result"
    }
   ],
   "source": [
    "reviews_analyst"
   ]
  },
  {
   "cell_type": "code",
   "execution_count": 29,
   "id": "3a4a5bd9",
   "metadata": {},
   "outputs": [
    {
     "data": {
      "text/plain": [
       "Tinder    1346\n",
       "Bumble       4\n",
       "Hinge        2\n",
       "Name: app, dtype: int64"
      ]
     },
     "execution_count": 29,
     "metadata": {},
     "output_type": "execute_result"
    }
   ],
   "source": [
    "# no reviews amount\n",
    "reviews_analyst[reviews_analyst['review'] == 'no review']['app'].value_counts()"
   ]
  },
  {
   "cell_type": "code",
   "execution_count": 30,
   "id": "066e0dec",
   "metadata": {},
   "outputs": [
    {
     "data": {
      "text/plain": [
       "Tinder    525269\n",
       "Bumble    102380\n",
       "Hinge      52992\n",
       "Name: app, dtype: int64"
      ]
     },
     "execution_count": 30,
     "metadata": {},
     "output_type": "execute_result"
    }
   ],
   "source": [
    "# reviews amount\n",
    "reviews_analyst[reviews_analyst['review'] != 'no review']['app'].value_counts()"
   ]
  },
  {
   "cell_type": "code",
   "execution_count": 31,
   "id": "ffd5f42b",
   "metadata": {},
   "outputs": [
    {
     "data": {
      "text/plain": [
       "Tinder    526615\n",
       "Bumble    102384\n",
       "Hinge      52994\n",
       "Name: app, dtype: int64"
      ]
     },
     "execution_count": 31,
     "metadata": {},
     "output_type": "execute_result"
    }
   ],
   "source": [
    "# total amount\n",
    "reviews_analyst['app'].value_counts()"
   ]
  },
  {
   "cell_type": "markdown",
   "id": "bb1df30d",
   "metadata": {},
   "source": [
    "# 3. The time of people making the review on each app"
   ]
  },
  {
   "cell_type": "code",
   "execution_count": 32,
   "id": "47f28507",
   "metadata": {},
   "outputs": [
    {
     "data": {
      "text/html": [
       "<div>\n",
       "<style scoped>\n",
       "    .dataframe tbody tr th:only-of-type {\n",
       "        vertical-align: middle;\n",
       "    }\n",
       "\n",
       "    .dataframe tbody tr th {\n",
       "        vertical-align: top;\n",
       "    }\n",
       "\n",
       "    .dataframe thead th {\n",
       "        text-align: right;\n",
       "    }\n",
       "</style>\n",
       "<table border=\"1\" class=\"dataframe\">\n",
       "  <thead>\n",
       "    <tr style=\"text-align: right;\">\n",
       "      <th></th>\n",
       "      <th>name</th>\n",
       "      <th>review</th>\n",
       "      <th>rating</th>\n",
       "      <th>thumbs_up</th>\n",
       "      <th>date_time</th>\n",
       "      <th>app</th>\n",
       "    </tr>\n",
       "  </thead>\n",
       "  <tbody>\n",
       "    <tr>\n",
       "      <th>0</th>\n",
       "      <td>linah sibanda</td>\n",
       "      <td>On this app i cant find a partner</td>\n",
       "      <td>5</td>\n",
       "      <td>0</td>\n",
       "      <td>2022-02-18 01:19:00</td>\n",
       "      <td>Tinder</td>\n",
       "    </tr>\n",
       "    <tr>\n",
       "      <th>1</th>\n",
       "      <td>Norman Johnson</td>\n",
       "      <td>Tinder would be so much better if we could spe...</td>\n",
       "      <td>3</td>\n",
       "      <td>0</td>\n",
       "      <td>2022-02-18 01:16:00</td>\n",
       "      <td>Tinder</td>\n",
       "    </tr>\n",
       "    <tr>\n",
       "      <th>2</th>\n",
       "      <td>David Hume</td>\n",
       "      <td>Still doesn't correctly notify matches or mess...</td>\n",
       "      <td>1</td>\n",
       "      <td>0</td>\n",
       "      <td>2022-02-18 01:11:00</td>\n",
       "      <td>Tinder</td>\n",
       "    </tr>\n",
       "    <tr>\n",
       "      <th>3</th>\n",
       "      <td>Last 1 Standing</td>\n",
       "      <td>Got banned because I updated my bio to say \"I ...</td>\n",
       "      <td>2</td>\n",
       "      <td>0</td>\n",
       "      <td>2022-02-18 01:11:00</td>\n",
       "      <td>Tinder</td>\n",
       "    </tr>\n",
       "    <tr>\n",
       "      <th>4</th>\n",
       "      <td>Arthur Magamedov</td>\n",
       "      <td>Love it!</td>\n",
       "      <td>5</td>\n",
       "      <td>0</td>\n",
       "      <td>2022-02-18 01:06:00</td>\n",
       "      <td>Tinder</td>\n",
       "    </tr>\n",
       "    <tr>\n",
       "      <th>...</th>\n",
       "      <td>...</td>\n",
       "      <td>...</td>\n",
       "      <td>...</td>\n",
       "      <td>...</td>\n",
       "      <td>...</td>\n",
       "      <td>...</td>\n",
       "    </tr>\n",
       "    <tr>\n",
       "      <th>681989</th>\n",
       "      <td>A Google user</td>\n",
       "      <td>Useless - I'm in the UK and it tells me i'm ov...</td>\n",
       "      <td>2</td>\n",
       "      <td>5</td>\n",
       "      <td>2017-12-07 01:44:00</td>\n",
       "      <td>Hinge</td>\n",
       "    </tr>\n",
       "    <tr>\n",
       "      <th>681990</th>\n",
       "      <td>Brian Shook</td>\n",
       "      <td>I can't get past the initial set up.  It won't...</td>\n",
       "      <td>1</td>\n",
       "      <td>11</td>\n",
       "      <td>2017-12-07 01:36:00</td>\n",
       "      <td>Hinge</td>\n",
       "    </tr>\n",
       "    <tr>\n",
       "      <th>681991</th>\n",
       "      <td>A Google user</td>\n",
       "      <td>This is incredible! A quality dating app for A...</td>\n",
       "      <td>5</td>\n",
       "      <td>1</td>\n",
       "      <td>2017-12-07 01:32:00</td>\n",
       "      <td>Hinge</td>\n",
       "    </tr>\n",
       "    <tr>\n",
       "      <th>681992</th>\n",
       "      <td>A Google user</td>\n",
       "      <td>\"Over Water\" ... Can't choose location.</td>\n",
       "      <td>2</td>\n",
       "      <td>8</td>\n",
       "      <td>2017-12-07 01:28:00</td>\n",
       "      <td>Hinge</td>\n",
       "    </tr>\n",
       "    <tr>\n",
       "      <th>681993</th>\n",
       "      <td>Dylan Fick</td>\n",
       "      <td>My entire town counts as \"over water\" and I ca...</td>\n",
       "      <td>2</td>\n",
       "      <td>15</td>\n",
       "      <td>2017-12-07 01:24:00</td>\n",
       "      <td>Hinge</td>\n",
       "    </tr>\n",
       "  </tbody>\n",
       "</table>\n",
       "<p>681993 rows × 6 columns</p>\n",
       "</div>"
      ],
      "text/plain": [
       "                    name                                             review  \\\n",
       "0          linah sibanda                  On this app i cant find a partner   \n",
       "1         Norman Johnson  Tinder would be so much better if we could spe...   \n",
       "2             David Hume  Still doesn't correctly notify matches or mess...   \n",
       "3        Last 1 Standing  Got banned because I updated my bio to say \"I ...   \n",
       "4       Arthur Magamedov                                           Love it!   \n",
       "...                  ...                                                ...   \n",
       "681989     A Google user  Useless - I'm in the UK and it tells me i'm ov...   \n",
       "681990       Brian Shook  I can't get past the initial set up.  It won't...   \n",
       "681991     A Google user  This is incredible! A quality dating app for A...   \n",
       "681992     A Google user            \"Over Water\" ... Can't choose location.   \n",
       "681993        Dylan Fick  My entire town counts as \"over water\" and I ca...   \n",
       "\n",
       "        rating  thumbs_up           date_time     app  \n",
       "0            5          0 2022-02-18 01:19:00  Tinder  \n",
       "1            3          0 2022-02-18 01:16:00  Tinder  \n",
       "2            1          0 2022-02-18 01:11:00  Tinder  \n",
       "3            2          0 2022-02-18 01:11:00  Tinder  \n",
       "4            5          0 2022-02-18 01:06:00  Tinder  \n",
       "...        ...        ...                 ...     ...  \n",
       "681989       2          5 2017-12-07 01:44:00   Hinge  \n",
       "681990       1         11 2017-12-07 01:36:00   Hinge  \n",
       "681991       5          1 2017-12-07 01:32:00   Hinge  \n",
       "681992       2          8 2017-12-07 01:28:00   Hinge  \n",
       "681993       2         15 2017-12-07 01:24:00   Hinge  \n",
       "\n",
       "[681993 rows x 6 columns]"
      ]
     },
     "execution_count": 32,
     "metadata": {},
     "output_type": "execute_result"
    }
   ],
   "source": [
    "dataset"
   ]
  },
  {
   "cell_type": "code",
   "execution_count": 33,
   "id": "7eb6e1ac",
   "metadata": {},
   "outputs": [],
   "source": [
    "time_analyst = dataset[['rating', 'date_time', 'app']]"
   ]
  },
  {
   "cell_type": "code",
   "execution_count": 34,
   "id": "34ead991",
   "metadata": {},
   "outputs": [
    {
     "data": {
      "text/html": [
       "<div>\n",
       "<style scoped>\n",
       "    .dataframe tbody tr th:only-of-type {\n",
       "        vertical-align: middle;\n",
       "    }\n",
       "\n",
       "    .dataframe tbody tr th {\n",
       "        vertical-align: top;\n",
       "    }\n",
       "\n",
       "    .dataframe thead th {\n",
       "        text-align: right;\n",
       "    }\n",
       "</style>\n",
       "<table border=\"1\" class=\"dataframe\">\n",
       "  <thead>\n",
       "    <tr style=\"text-align: right;\">\n",
       "      <th></th>\n",
       "      <th>rating</th>\n",
       "      <th>date_time</th>\n",
       "      <th>app</th>\n",
       "    </tr>\n",
       "  </thead>\n",
       "  <tbody>\n",
       "    <tr>\n",
       "      <th>0</th>\n",
       "      <td>5</td>\n",
       "      <td>2022-02-18 01:19:00</td>\n",
       "      <td>Tinder</td>\n",
       "    </tr>\n",
       "    <tr>\n",
       "      <th>1</th>\n",
       "      <td>3</td>\n",
       "      <td>2022-02-18 01:16:00</td>\n",
       "      <td>Tinder</td>\n",
       "    </tr>\n",
       "    <tr>\n",
       "      <th>2</th>\n",
       "      <td>1</td>\n",
       "      <td>2022-02-18 01:11:00</td>\n",
       "      <td>Tinder</td>\n",
       "    </tr>\n",
       "    <tr>\n",
       "      <th>3</th>\n",
       "      <td>2</td>\n",
       "      <td>2022-02-18 01:11:00</td>\n",
       "      <td>Tinder</td>\n",
       "    </tr>\n",
       "    <tr>\n",
       "      <th>4</th>\n",
       "      <td>5</td>\n",
       "      <td>2022-02-18 01:06:00</td>\n",
       "      <td>Tinder</td>\n",
       "    </tr>\n",
       "    <tr>\n",
       "      <th>...</th>\n",
       "      <td>...</td>\n",
       "      <td>...</td>\n",
       "      <td>...</td>\n",
       "    </tr>\n",
       "    <tr>\n",
       "      <th>681989</th>\n",
       "      <td>2</td>\n",
       "      <td>2017-12-07 01:44:00</td>\n",
       "      <td>Hinge</td>\n",
       "    </tr>\n",
       "    <tr>\n",
       "      <th>681990</th>\n",
       "      <td>1</td>\n",
       "      <td>2017-12-07 01:36:00</td>\n",
       "      <td>Hinge</td>\n",
       "    </tr>\n",
       "    <tr>\n",
       "      <th>681991</th>\n",
       "      <td>5</td>\n",
       "      <td>2017-12-07 01:32:00</td>\n",
       "      <td>Hinge</td>\n",
       "    </tr>\n",
       "    <tr>\n",
       "      <th>681992</th>\n",
       "      <td>2</td>\n",
       "      <td>2017-12-07 01:28:00</td>\n",
       "      <td>Hinge</td>\n",
       "    </tr>\n",
       "    <tr>\n",
       "      <th>681993</th>\n",
       "      <td>2</td>\n",
       "      <td>2017-12-07 01:24:00</td>\n",
       "      <td>Hinge</td>\n",
       "    </tr>\n",
       "  </tbody>\n",
       "</table>\n",
       "<p>681993 rows × 3 columns</p>\n",
       "</div>"
      ],
      "text/plain": [
       "        rating           date_time     app\n",
       "0            5 2022-02-18 01:19:00  Tinder\n",
       "1            3 2022-02-18 01:16:00  Tinder\n",
       "2            1 2022-02-18 01:11:00  Tinder\n",
       "3            2 2022-02-18 01:11:00  Tinder\n",
       "4            5 2022-02-18 01:06:00  Tinder\n",
       "...        ...                 ...     ...\n",
       "681989       2 2017-12-07 01:44:00   Hinge\n",
       "681990       1 2017-12-07 01:36:00   Hinge\n",
       "681991       5 2017-12-07 01:32:00   Hinge\n",
       "681992       2 2017-12-07 01:28:00   Hinge\n",
       "681993       2 2017-12-07 01:24:00   Hinge\n",
       "\n",
       "[681993 rows x 3 columns]"
      ]
     },
     "execution_count": 34,
     "metadata": {},
     "output_type": "execute_result"
    }
   ],
   "source": [
    "time_analyst"
   ]
  },
  {
   "cell_type": "code",
   "execution_count": 36,
   "id": "d60de55e",
   "metadata": {},
   "outputs": [
    {
     "data": {
      "text/html": [
       "<div>\n",
       "<style scoped>\n",
       "    .dataframe tbody tr th:only-of-type {\n",
       "        vertical-align: middle;\n",
       "    }\n",
       "\n",
       "    .dataframe tbody tr th {\n",
       "        vertical-align: top;\n",
       "    }\n",
       "\n",
       "    .dataframe thead th {\n",
       "        text-align: right;\n",
       "    }\n",
       "</style>\n",
       "<table border=\"1\" class=\"dataframe\">\n",
       "  <thead>\n",
       "    <tr style=\"text-align: right;\">\n",
       "      <th></th>\n",
       "      <th>date_time</th>\n",
       "    </tr>\n",
       "  </thead>\n",
       "  <tbody>\n",
       "    <tr>\n",
       "      <th>0</th>\n",
       "      <td>1.19</td>\n",
       "    </tr>\n",
       "    <tr>\n",
       "      <th>1</th>\n",
       "      <td>1.16</td>\n",
       "    </tr>\n",
       "    <tr>\n",
       "      <th>2</th>\n",
       "      <td>1.11</td>\n",
       "    </tr>\n",
       "    <tr>\n",
       "      <th>3</th>\n",
       "      <td>1.11</td>\n",
       "    </tr>\n",
       "    <tr>\n",
       "      <th>4</th>\n",
       "      <td>1.06</td>\n",
       "    </tr>\n",
       "    <tr>\n",
       "      <th>...</th>\n",
       "      <td>...</td>\n",
       "    </tr>\n",
       "    <tr>\n",
       "      <th>681989</th>\n",
       "      <td>1.44</td>\n",
       "    </tr>\n",
       "    <tr>\n",
       "      <th>681990</th>\n",
       "      <td>1.36</td>\n",
       "    </tr>\n",
       "    <tr>\n",
       "      <th>681991</th>\n",
       "      <td>1.32</td>\n",
       "    </tr>\n",
       "    <tr>\n",
       "      <th>681992</th>\n",
       "      <td>1.28</td>\n",
       "    </tr>\n",
       "    <tr>\n",
       "      <th>681993</th>\n",
       "      <td>1.24</td>\n",
       "    </tr>\n",
       "  </tbody>\n",
       "</table>\n",
       "<p>681993 rows × 1 columns</p>\n",
       "</div>"
      ],
      "text/plain": [
       "        date_time\n",
       "0            1.19\n",
       "1            1.16\n",
       "2            1.11\n",
       "3            1.11\n",
       "4            1.06\n",
       "...           ...\n",
       "681989       1.44\n",
       "681990       1.36\n",
       "681991       1.32\n",
       "681992       1.28\n",
       "681993       1.24\n",
       "\n",
       "[681993 rows x 1 columns]"
      ]
     },
     "execution_count": 36,
     "metadata": {},
     "output_type": "execute_result"
    }
   ],
   "source": [
    "time_analyst = dataset[['date_time']].copy()\n",
    "time_analyst['date_time'] =  pd.to_datetime(time_analyst['date_time'], format=\"%H:%M\")\n",
    "time_analyst['date_time'] = time_analyst['date_time'].dt.strftime(\"%H.%M\")\n",
    "time_analyst['date_time'] = time_analyst['date_time'].astype(float)\n",
    "time_analyst"
   ]
  },
  {
   "cell_type": "code",
   "execution_count": 41,
   "id": "19d880f5",
   "metadata": {},
   "outputs": [],
   "source": [
    "# Check the length in between 00:00 - 00:59, 01:00 - 01:59 so on...\n",
    "def time_counting(dataframe):\n",
    "    rating_time_list = dataframe['date_time'].tolist()\n",
    "    timeframe = []\n",
    "    counts = []\n",
    "    for time_range in range(0, 24):\n",
    "        length = 0\n",
    "        for rating_time in rating_time_list:\n",
    "            if(rating_time >= float(time_range)) & (rating_time <= round(time_range + 0.59, 2)):\n",
    "                length += 1\n",
    "        counts.append(length)\n",
    "        timeframe.append(format(time_range, \".2f\").replace('.', ':'))\n",
    "    dataset = [timeframe, counts]\n",
    "    return dataset"
   ]
  },
  {
   "cell_type": "code",
   "execution_count": 42,
   "id": "08c75c12",
   "metadata": {},
   "outputs": [
    {
     "data": {
      "text/plain": [
       "[['0:00',\n",
       "  '1:00',\n",
       "  '2:00',\n",
       "  '3:00',\n",
       "  '4:00',\n",
       "  '5:00',\n",
       "  '6:00',\n",
       "  '7:00',\n",
       "  '8:00',\n",
       "  '9:00',\n",
       "  '10:00',\n",
       "  '11:00',\n",
       "  '12:00',\n",
       "  '13:00',\n",
       "  '14:00',\n",
       "  '15:00',\n",
       "  '16:00',\n",
       "  '17:00',\n",
       "  '18:00',\n",
       "  '19:00',\n",
       "  '20:00',\n",
       "  '21:00',\n",
       "  '22:00',\n",
       "  '23:00'],\n",
       " [32697,\n",
       "  30913,\n",
       "  29419,\n",
       "  28893,\n",
       "  28615,\n",
       "  28169,\n",
       "  27990,\n",
       "  28960,\n",
       "  29728,\n",
       "  30321,\n",
       "  28912,\n",
       "  28009,\n",
       "  26000,\n",
       "  24093,\n",
       "  22845,\n",
       "  22566,\n",
       "  22945,\n",
       "  24307,\n",
       "  26703,\n",
       "  29620,\n",
       "  31096,\n",
       "  32529,\n",
       "  33548,\n",
       "  33115]]"
      ]
     },
     "execution_count": 42,
     "metadata": {},
     "output_type": "execute_result"
    }
   ],
   "source": [
    "time_dataset = time_counting(time_analyst)\n",
    "time_dataset"
   ]
  },
  {
   "cell_type": "code",
   "execution_count": 45,
   "id": "a45ac4a0",
   "metadata": {},
   "outputs": [
    {
     "name": "stdout",
     "output_type": "stream",
     "text": [
      "681993\n"
     ]
    }
   ],
   "source": [
    "time_counts_df = pd.DataFrame([time_dataset[1]], columns=time_dataset[0])\n",
    "\n",
    "test_df = time_counts_df.apply(pd.to_numeric)\n",
    "test_df['Totals'] = test_df.sum(axis=1)\n",
    "total_ratings = test_df['Totals'].iloc[0]\n",
    "print(total_ratings)"
   ]
  },
  {
   "cell_type": "code",
   "execution_count": 46,
   "id": "49ce4b0d",
   "metadata": {},
   "outputs": [
    {
     "data": {
      "text/html": [
       "<div>\n",
       "<style scoped>\n",
       "    .dataframe tbody tr th:only-of-type {\n",
       "        vertical-align: middle;\n",
       "    }\n",
       "\n",
       "    .dataframe tbody tr th {\n",
       "        vertical-align: top;\n",
       "    }\n",
       "\n",
       "    .dataframe thead th {\n",
       "        text-align: right;\n",
       "    }\n",
       "</style>\n",
       "<table border=\"1\" class=\"dataframe\">\n",
       "  <thead>\n",
       "    <tr style=\"text-align: right;\">\n",
       "      <th></th>\n",
       "      <th>0</th>\n",
       "    </tr>\n",
       "  </thead>\n",
       "  <tbody>\n",
       "    <tr>\n",
       "      <th>0:00</th>\n",
       "      <td>32697</td>\n",
       "    </tr>\n",
       "    <tr>\n",
       "      <th>1:00</th>\n",
       "      <td>30913</td>\n",
       "    </tr>\n",
       "    <tr>\n",
       "      <th>2:00</th>\n",
       "      <td>29419</td>\n",
       "    </tr>\n",
       "    <tr>\n",
       "      <th>3:00</th>\n",
       "      <td>28893</td>\n",
       "    </tr>\n",
       "    <tr>\n",
       "      <th>4:00</th>\n",
       "      <td>28615</td>\n",
       "    </tr>\n",
       "    <tr>\n",
       "      <th>5:00</th>\n",
       "      <td>28169</td>\n",
       "    </tr>\n",
       "    <tr>\n",
       "      <th>6:00</th>\n",
       "      <td>27990</td>\n",
       "    </tr>\n",
       "    <tr>\n",
       "      <th>7:00</th>\n",
       "      <td>28960</td>\n",
       "    </tr>\n",
       "    <tr>\n",
       "      <th>8:00</th>\n",
       "      <td>29728</td>\n",
       "    </tr>\n",
       "    <tr>\n",
       "      <th>9:00</th>\n",
       "      <td>30321</td>\n",
       "    </tr>\n",
       "    <tr>\n",
       "      <th>10:00</th>\n",
       "      <td>28912</td>\n",
       "    </tr>\n",
       "    <tr>\n",
       "      <th>11:00</th>\n",
       "      <td>28009</td>\n",
       "    </tr>\n",
       "    <tr>\n",
       "      <th>12:00</th>\n",
       "      <td>26000</td>\n",
       "    </tr>\n",
       "    <tr>\n",
       "      <th>13:00</th>\n",
       "      <td>24093</td>\n",
       "    </tr>\n",
       "    <tr>\n",
       "      <th>14:00</th>\n",
       "      <td>22845</td>\n",
       "    </tr>\n",
       "    <tr>\n",
       "      <th>15:00</th>\n",
       "      <td>22566</td>\n",
       "    </tr>\n",
       "    <tr>\n",
       "      <th>16:00</th>\n",
       "      <td>22945</td>\n",
       "    </tr>\n",
       "    <tr>\n",
       "      <th>17:00</th>\n",
       "      <td>24307</td>\n",
       "    </tr>\n",
       "    <tr>\n",
       "      <th>18:00</th>\n",
       "      <td>26703</td>\n",
       "    </tr>\n",
       "    <tr>\n",
       "      <th>19:00</th>\n",
       "      <td>29620</td>\n",
       "    </tr>\n",
       "    <tr>\n",
       "      <th>20:00</th>\n",
       "      <td>31096</td>\n",
       "    </tr>\n",
       "    <tr>\n",
       "      <th>21:00</th>\n",
       "      <td>32529</td>\n",
       "    </tr>\n",
       "    <tr>\n",
       "      <th>22:00</th>\n",
       "      <td>33548</td>\n",
       "    </tr>\n",
       "    <tr>\n",
       "      <th>23:00</th>\n",
       "      <td>33115</td>\n",
       "    </tr>\n",
       "  </tbody>\n",
       "</table>\n",
       "</div>"
      ],
      "text/plain": [
       "           0\n",
       "0:00   32697\n",
       "1:00   30913\n",
       "2:00   29419\n",
       "3:00   28893\n",
       "4:00   28615\n",
       "5:00   28169\n",
       "6:00   27990\n",
       "7:00   28960\n",
       "8:00   29728\n",
       "9:00   30321\n",
       "10:00  28912\n",
       "11:00  28009\n",
       "12:00  26000\n",
       "13:00  24093\n",
       "14:00  22845\n",
       "15:00  22566\n",
       "16:00  22945\n",
       "17:00  24307\n",
       "18:00  26703\n",
       "19:00  29620\n",
       "20:00  31096\n",
       "21:00  32529\n",
       "22:00  33548\n",
       "23:00  33115"
      ]
     },
     "execution_count": 46,
     "metadata": {},
     "output_type": "execute_result"
    }
   ],
   "source": [
    "time_counts_df.T"
   ]
  },
  {
   "cell_type": "code",
   "execution_count": 47,
   "id": "4e42ecc6",
   "metadata": {},
   "outputs": [],
   "source": [
    "ratings_count = sorted(time_counts_df.values.tolist()[0])"
   ]
  },
  {
   "cell_type": "code",
   "execution_count": 48,
   "id": "7cf98c8c",
   "metadata": {},
   "outputs": [
    {
     "name": "stdout",
     "output_type": "stream",
     "text": [
      "28017\n",
      "29787\n"
     ]
    }
   ],
   "source": [
    "print(int(np.quantile(ratings_count, .35)))\n",
    "print(int(np.quantile(ratings_count, .70)))"
   ]
  },
  {
   "cell_type": "code",
   "execution_count": 49,
   "id": "6eae1616",
   "metadata": {},
   "outputs": [
    {
     "name": "stdout",
     "output_type": "stream",
     "text": [
      "22566\n",
      "33548\n"
     ]
    }
   ],
   "source": [
    "print(time_counts_df.min().min())\n",
    "print(time_counts_df.max().max())"
   ]
  },
  {
   "cell_type": "code",
   "execution_count": 50,
   "id": "bcad1ab0",
   "metadata": {},
   "outputs": [
    {
     "data": {
      "image/png": "[encoded data removed]",
      "text/plain": [
       "<Figure size 576x576 with 1 Axes>"
      ]
     },
     "metadata": {},
     "output_type": "display_data"
    }
   ],
   "source": [
    "import matplotlib as mpl\n",
    "from matplotlib import cm\n",
    "import matplotlib.patches as mpatches\n",
    "# make a heatmap building function \n",
    "def pie_heatmap(table, cmap=cm.Greens, vmin=None, vmax=None,inner_r=0.25, pie_args={}):\n",
    "    n, m = table.shape\n",
    "    vmin= table.min().min() if vmin is None else vmin\n",
    "    vmax= table.max().max() if vmax is None else vmax\n",
    "\n",
    "    centre_circle = plt.Circle((0,0),inner_r,edgecolor='black',facecolor='white',fill=True,linewidth=0.25)\n",
    "    plt.gcf().gca().add_artist(centre_circle)\n",
    "    norm = mpl.colors.Normalize(vmin=vmin, vmax=vmax)\n",
    "    cmapper = cm.ScalarMappable(norm=norm, cmap=cmap)\n",
    "    for i, (row_name, row) in enumerate(table.iterrows()):\n",
    "        labels = None if i > 0 else table.columns\n",
    "        wedges = plt.pie([1] * m,radius=inner_r+float(n-i)/n, colors=[cmapper.to_rgba(x) for x in row.values], \n",
    "            labels=labels, startangle=90, counterclock=False, wedgeprops={'linewidth':-1}, **pie_args)\n",
    "        plt.setp(wedges[0], edgecolor='white',linewidth=1.5)\n",
    "        wedges = plt.pie([1], radius=inner_r+float(n-i-1)/n, colors=['w'], labels=[row_name], startangle=-90, wedgeprops={'linewidth':0})\n",
    "        plt.setp(wedges[0], edgecolor='white',linewidth=1.5)\n",
    "\n",
    "\n",
    "\n",
    "plt.figure(figsize=(8,8))\n",
    "pie_heatmap(time_counts_df, vmin=time_counts_df.min().min() - 11,vmax=time_counts_df.max().max(),inner_r=0.2)\n",
    "\n",
    "ratings_lowest = time_counts_df.min().min()\n",
    "ratings_highest = time_counts_df.max().max()\n",
    "\n",
    "# customize legend\n",
    "mintcream_patch = mpatches.Patch(color='mintcream', label=f'{ratings_lowest} ~ {int(np.quantile(ratings_count, .35))} RATINGS')\n",
    "darkseagreen_patch = mpatches.Patch(color='darkseagreen', label=f'{int(np.quantile(ratings_count, .35)) + 1} ~ {int(np.quantile(ratings_count, .80))} RATINGS')\n",
    "darkgreen_patch = mpatches.Patch(color='darkgreen', label=f'{int(np.quantile(ratings_count, .80)) + 1} ~ {ratings_highest} RATINGS')\n",
    "\n",
    "plt.legend(handles=[mintcream_patch, darkseagreen_patch, darkgreen_patch], title=f'Total Ratings ({total_ratings})', bbox_to_anchor=(1.05, 1), loc='upper left')\n",
    "plt.show();\n",
    "\n",
    "# for basic summary data\n",
    "total_traffic = total_clicks"
   ]
  },
  {
   "cell_type": "markdown",
   "id": "ddb92604",
   "metadata": {},
   "source": [
    "# 4. Word Analyst"
   ]
  },
  {
   "cell_type": "code",
   "execution_count": 127,
   "id": "81b8f36b",
   "metadata": {},
   "outputs": [],
   "source": [
    "word_analyst = dataset[['review', 'rating', 'thumbs_up', 'app']].copy()"
   ]
  },
  {
   "cell_type": "code",
   "execution_count": 128,
   "id": "7ee4e01e",
   "metadata": {},
   "outputs": [
    {
     "data": {
      "text/html": [
       "<div>\n",
       "<style scoped>\n",
       "    .dataframe tbody tr th:only-of-type {\n",
       "        vertical-align: middle;\n",
       "    }\n",
       "\n",
       "    .dataframe tbody tr th {\n",
       "        vertical-align: top;\n",
       "    }\n",
       "\n",
       "    .dataframe thead th {\n",
       "        text-align: right;\n",
       "    }\n",
       "</style>\n",
       "<table border=\"1\" class=\"dataframe\">\n",
       "  <thead>\n",
       "    <tr style=\"text-align: right;\">\n",
       "      <th></th>\n",
       "      <th>review</th>\n",
       "      <th>rating</th>\n",
       "      <th>thumbs_up</th>\n",
       "      <th>app</th>\n",
       "    </tr>\n",
       "  </thead>\n",
       "  <tbody>\n",
       "    <tr>\n",
       "      <th>0</th>\n",
       "      <td>On this app i cant find a partner</td>\n",
       "      <td>5</td>\n",
       "      <td>0</td>\n",
       "      <td>Tinder</td>\n",
       "    </tr>\n",
       "    <tr>\n",
       "      <th>1</th>\n",
       "      <td>Tinder would be so much better if we could spe...</td>\n",
       "      <td>3</td>\n",
       "      <td>0</td>\n",
       "      <td>Tinder</td>\n",
       "    </tr>\n",
       "    <tr>\n",
       "      <th>2</th>\n",
       "      <td>Still doesn't correctly notify matches or mess...</td>\n",
       "      <td>1</td>\n",
       "      <td>0</td>\n",
       "      <td>Tinder</td>\n",
       "    </tr>\n",
       "    <tr>\n",
       "      <th>3</th>\n",
       "      <td>Got banned because I updated my bio to say \"I ...</td>\n",
       "      <td>2</td>\n",
       "      <td>0</td>\n",
       "      <td>Tinder</td>\n",
       "    </tr>\n",
       "    <tr>\n",
       "      <th>4</th>\n",
       "      <td>Love it!</td>\n",
       "      <td>5</td>\n",
       "      <td>0</td>\n",
       "      <td>Tinder</td>\n",
       "    </tr>\n",
       "  </tbody>\n",
       "</table>\n",
       "</div>"
      ],
      "text/plain": [
       "                                              review  rating  thumbs_up  \\\n",
       "0                  On this app i cant find a partner       5          0   \n",
       "1  Tinder would be so much better if we could spe...       3          0   \n",
       "2  Still doesn't correctly notify matches or mess...       1          0   \n",
       "3  Got banned because I updated my bio to say \"I ...       2          0   \n",
       "4                                           Love it!       5          0   \n",
       "\n",
       "      app  \n",
       "0  Tinder  \n",
       "1  Tinder  \n",
       "2  Tinder  \n",
       "3  Tinder  \n",
       "4  Tinder  "
      ]
     },
     "execution_count": 128,
     "metadata": {},
     "output_type": "execute_result"
    }
   ],
   "source": [
    "word_analyst.head()"
   ]
  },
  {
   "cell_type": "code",
   "execution_count": 129,
   "id": "3612500e",
   "metadata": {},
   "outputs": [
    {
     "data": {
      "text/plain": [
       "review       0\n",
       "rating       0\n",
       "thumbs_up    0\n",
       "app          0\n",
       "dtype: int64"
      ]
     },
     "execution_count": 129,
     "metadata": {},
     "output_type": "execute_result"
    }
   ],
   "source": [
    "word_analyst.isnull().sum()"
   ]
  },
  {
   "cell_type": "code",
   "execution_count": 130,
   "id": "da8464da",
   "metadata": {},
   "outputs": [],
   "source": [
    "import nltk\n",
    "from nltk.tokenize import RegexpTokenizer"
   ]
  },
  {
   "cell_type": "code",
   "execution_count": 131,
   "id": "56848633",
   "metadata": {},
   "outputs": [
    {
     "data": {
      "text/html": [
       "<div>\n",
       "<style scoped>\n",
       "    .dataframe tbody tr th:only-of-type {\n",
       "        vertical-align: middle;\n",
       "    }\n",
       "\n",
       "    .dataframe tbody tr th {\n",
       "        vertical-align: top;\n",
       "    }\n",
       "\n",
       "    .dataframe thead th {\n",
       "        text-align: right;\n",
       "    }\n",
       "</style>\n",
       "<table border=\"1\" class=\"dataframe\">\n",
       "  <thead>\n",
       "    <tr style=\"text-align: right;\">\n",
       "      <th></th>\n",
       "      <th>review</th>\n",
       "      <th>rating</th>\n",
       "      <th>thumbs_up</th>\n",
       "      <th>app</th>\n",
       "    </tr>\n",
       "  </thead>\n",
       "  <tbody>\n",
       "    <tr>\n",
       "      <th>0</th>\n",
       "      <td>on this app i cant find a partner</td>\n",
       "      <td>5</td>\n",
       "      <td>0</td>\n",
       "      <td>Tinder</td>\n",
       "    </tr>\n",
       "    <tr>\n",
       "      <th>1</th>\n",
       "      <td>tinder would be so much better if we could spe...</td>\n",
       "      <td>3</td>\n",
       "      <td>0</td>\n",
       "      <td>Tinder</td>\n",
       "    </tr>\n",
       "    <tr>\n",
       "      <th>2</th>\n",
       "      <td>still doesn't correctly notify matches or mess...</td>\n",
       "      <td>1</td>\n",
       "      <td>0</td>\n",
       "      <td>Tinder</td>\n",
       "    </tr>\n",
       "    <tr>\n",
       "      <th>3</th>\n",
       "      <td>got banned because i updated my bio to say \"i ...</td>\n",
       "      <td>2</td>\n",
       "      <td>0</td>\n",
       "      <td>Tinder</td>\n",
       "    </tr>\n",
       "    <tr>\n",
       "      <th>4</th>\n",
       "      <td>love it!</td>\n",
       "      <td>5</td>\n",
       "      <td>0</td>\n",
       "      <td>Tinder</td>\n",
       "    </tr>\n",
       "  </tbody>\n",
       "</table>\n",
       "</div>"
      ],
      "text/plain": [
       "                                              review  rating  thumbs_up  \\\n",
       "0                  on this app i cant find a partner       5          0   \n",
       "1  tinder would be so much better if we could spe...       3          0   \n",
       "2  still doesn't correctly notify matches or mess...       1          0   \n",
       "3  got banned because i updated my bio to say \"i ...       2          0   \n",
       "4                                           love it!       5          0   \n",
       "\n",
       "      app  \n",
       "0  Tinder  \n",
       "1  Tinder  \n",
       "2  Tinder  \n",
       "3  Tinder  \n",
       "4  Tinder  "
      ]
     },
     "execution_count": 131,
     "metadata": {},
     "output_type": "execute_result"
    }
   ],
   "source": [
    "# data transformation\n",
    "word_analyst['review'] = word_analyst['review'].astype(str).str.lower()\n",
    "word_analyst.head(5)"
   ]
  },
  {
   "cell_type": "code",
   "execution_count": 132,
   "id": "a44b2748",
   "metadata": {},
   "outputs": [
    {
     "data": {
      "text/html": [
       "<div>\n",
       "<style scoped>\n",
       "    .dataframe tbody tr th:only-of-type {\n",
       "        vertical-align: middle;\n",
       "    }\n",
       "\n",
       "    .dataframe tbody tr th {\n",
       "        vertical-align: top;\n",
       "    }\n",
       "\n",
       "    .dataframe thead th {\n",
       "        text-align: right;\n",
       "    }\n",
       "</style>\n",
       "<table border=\"1\" class=\"dataframe\">\n",
       "  <thead>\n",
       "    <tr style=\"text-align: right;\">\n",
       "      <th></th>\n",
       "      <th>review</th>\n",
       "      <th>rating</th>\n",
       "      <th>thumbs_up</th>\n",
       "      <th>app</th>\n",
       "      <th>text_token</th>\n",
       "    </tr>\n",
       "  </thead>\n",
       "  <tbody>\n",
       "    <tr>\n",
       "      <th>0</th>\n",
       "      <td>on this app i cant find a partner</td>\n",
       "      <td>5</td>\n",
       "      <td>0</td>\n",
       "      <td>Tinder</td>\n",
       "      <td>[on, this, app, i, cant, find, a, partner]</td>\n",
       "    </tr>\n",
       "    <tr>\n",
       "      <th>1</th>\n",
       "      <td>tinder would be so much better if we could spe...</td>\n",
       "      <td>3</td>\n",
       "      <td>0</td>\n",
       "      <td>Tinder</td>\n",
       "      <td>[tinder, would, be, so, much, better, if, we, ...</td>\n",
       "    </tr>\n",
       "    <tr>\n",
       "      <th>2</th>\n",
       "      <td>still doesn't correctly notify matches or mess...</td>\n",
       "      <td>1</td>\n",
       "      <td>0</td>\n",
       "      <td>Tinder</td>\n",
       "      <td>[still, doesn, t, correctly, notify, matches, ...</td>\n",
       "    </tr>\n",
       "    <tr>\n",
       "      <th>3</th>\n",
       "      <td>got banned because i updated my bio to say \"i ...</td>\n",
       "      <td>2</td>\n",
       "      <td>0</td>\n",
       "      <td>Tinder</td>\n",
       "      <td>[got, banned, because, i, updated, my, bio, to...</td>\n",
       "    </tr>\n",
       "    <tr>\n",
       "      <th>4</th>\n",
       "      <td>love it!</td>\n",
       "      <td>5</td>\n",
       "      <td>0</td>\n",
       "      <td>Tinder</td>\n",
       "      <td>[love, it]</td>\n",
       "    </tr>\n",
       "  </tbody>\n",
       "</table>\n",
       "</div>"
      ],
      "text/plain": [
       "                                              review  rating  thumbs_up  \\\n",
       "0                  on this app i cant find a partner       5          0   \n",
       "1  tinder would be so much better if we could spe...       3          0   \n",
       "2  still doesn't correctly notify matches or mess...       1          0   \n",
       "3  got banned because i updated my bio to say \"i ...       2          0   \n",
       "4                                           love it!       5          0   \n",
       "\n",
       "      app                                         text_token  \n",
       "0  Tinder         [on, this, app, i, cant, find, a, partner]  \n",
       "1  Tinder  [tinder, would, be, so, much, better, if, we, ...  \n",
       "2  Tinder  [still, doesn, t, correctly, notify, matches, ...  \n",
       "3  Tinder  [got, banned, because, i, updated, my, bio, to...  \n",
       "4  Tinder                                         [love, it]  "
      ]
     },
     "execution_count": 132,
     "metadata": {},
     "output_type": "execute_result"
    }
   ],
   "source": [
    "regexp = RegexpTokenizer('\\w+')\n",
    "word_analyst['text_token'] = word_analyst['review'].apply(regexp.tokenize)\n",
    "word_analyst.head(5)"
   ]
  },
  {
   "cell_type": "code",
   "execution_count": 133,
   "id": "1cba48cc",
   "metadata": {},
   "outputs": [
    {
     "name": "stderr",
     "output_type": "stream",
     "text": [
      "[nltk_data] Downloading package stopwords to C:\\Users\\Forge-15\n",
      "[nltk_data]     1650\\AppData\\Roaming\\nltk_data...\n",
      "[nltk_data]   Package stopwords is already up-to-date!\n"
     ]
    },
    {
     "data": {
      "text/plain": [
       "True"
      ]
     },
     "execution_count": 133,
     "metadata": {},
     "output_type": "execute_result"
    }
   ],
   "source": [
    "# installing 'stopwords' to remove unneccessary token (like “will”, “and”, “or”, “has”, …)\n",
    "nltk.download(\"stopwords\")"
   ]
  },
  {
   "cell_type": "code",
   "execution_count": 134,
   "id": "f385330f",
   "metadata": {},
   "outputs": [],
   "source": [
    "from nltk.corpus import stopwords\n",
    "\n",
    "# Make a list of stopwords in english\n",
    "stopwords = nltk.corpus.stopwords.words(\"english\")\n",
    "\n",
    "# Extend the list with your own custom stopwords (if you have)\n",
    "my_stopwords = ['app', 'dating', 'new', 'please', 'use', 'people', 'guy', 'girl', 'got', 'apps',\n",
    "                'user', 'site', 'phone', 'number', 'seem', 'review', 'plus', 'update', 'option',\n",
    "               'time', 'tinder', 'bumble', 'hinge', 'think', 'used', 'tinder gold', 'tinder plus',\n",
    "               'going', 'work', 'seems', 'reason', 'account', 'actually', 'tell', 'lot', 'let',\n",
    "                'log', 'sure', 'either', 'issue', 'say', 'chat', 'using', 'maybe', 'come',\n",
    "                'working', 'download', 'men', 'one', 'date', 'show']\n",
    "stopwords.extend(my_stopwords)"
   ]
  },
  {
   "cell_type": "code",
   "execution_count": 135,
   "id": "a99c008b",
   "metadata": {},
   "outputs": [
    {
     "data": {
      "text/html": [
       "<div>\n",
       "<style scoped>\n",
       "    .dataframe tbody tr th:only-of-type {\n",
       "        vertical-align: middle;\n",
       "    }\n",
       "\n",
       "    .dataframe tbody tr th {\n",
       "        vertical-align: top;\n",
       "    }\n",
       "\n",
       "    .dataframe thead th {\n",
       "        text-align: right;\n",
       "    }\n",
       "</style>\n",
       "<table border=\"1\" class=\"dataframe\">\n",
       "  <thead>\n",
       "    <tr style=\"text-align: right;\">\n",
       "      <th></th>\n",
       "      <th>review</th>\n",
       "      <th>rating</th>\n",
       "      <th>thumbs_up</th>\n",
       "      <th>app</th>\n",
       "      <th>text_token</th>\n",
       "    </tr>\n",
       "  </thead>\n",
       "  <tbody>\n",
       "    <tr>\n",
       "      <th>0</th>\n",
       "      <td>on this app i cant find a partner</td>\n",
       "      <td>5</td>\n",
       "      <td>0</td>\n",
       "      <td>Tinder</td>\n",
       "      <td>[cant, find, partner]</td>\n",
       "    </tr>\n",
       "    <tr>\n",
       "      <th>1</th>\n",
       "      <td>tinder would be so much better if we could spe...</td>\n",
       "      <td>3</td>\n",
       "      <td>0</td>\n",
       "      <td>Tinder</td>\n",
       "      <td>[would, much, better, could, specify, race, lo...</td>\n",
       "    </tr>\n",
       "    <tr>\n",
       "      <th>2</th>\n",
       "      <td>still doesn't correctly notify matches or mess...</td>\n",
       "      <td>1</td>\n",
       "      <td>0</td>\n",
       "      <td>Tinder</td>\n",
       "      <td>[still, correctly, notify, matches, messages, ...</td>\n",
       "    </tr>\n",
       "    <tr>\n",
       "      <th>3</th>\n",
       "      <td>got banned because i updated my bio to say \"i ...</td>\n",
       "      <td>2</td>\n",
       "      <td>0</td>\n",
       "      <td>Tinder</td>\n",
       "      <td>[banned, updated, bio, feel, like, girls, look...</td>\n",
       "    </tr>\n",
       "    <tr>\n",
       "      <th>4</th>\n",
       "      <td>love it!</td>\n",
       "      <td>5</td>\n",
       "      <td>0</td>\n",
       "      <td>Tinder</td>\n",
       "      <td>[love]</td>\n",
       "    </tr>\n",
       "  </tbody>\n",
       "</table>\n",
       "</div>"
      ],
      "text/plain": [
       "                                              review  rating  thumbs_up  \\\n",
       "0                  on this app i cant find a partner       5          0   \n",
       "1  tinder would be so much better if we could spe...       3          0   \n",
       "2  still doesn't correctly notify matches or mess...       1          0   \n",
       "3  got banned because i updated my bio to say \"i ...       2          0   \n",
       "4                                           love it!       5          0   \n",
       "\n",
       "      app                                         text_token  \n",
       "0  Tinder                              [cant, find, partner]  \n",
       "1  Tinder  [would, much, better, could, specify, race, lo...  \n",
       "2  Tinder  [still, correctly, notify, matches, messages, ...  \n",
       "3  Tinder  [banned, updated, bio, feel, like, girls, look...  \n",
       "4  Tinder                                             [love]  "
      ]
     },
     "execution_count": 135,
     "metadata": {},
     "output_type": "execute_result"
    }
   ],
   "source": [
    "# Remove stopwords\n",
    "word_analyst['text_token'] = word_analyst['text_token'].apply(lambda x: [item for item in x if item not in stopwords])\n",
    "word_analyst.head(5)"
   ]
  },
  {
   "cell_type": "code",
   "execution_count": 136,
   "id": "c9e6c491",
   "metadata": {},
   "outputs": [
    {
     "data": {
      "text/html": [
       "<div>\n",
       "<style scoped>\n",
       "    .dataframe tbody tr th:only-of-type {\n",
       "        vertical-align: middle;\n",
       "    }\n",
       "\n",
       "    .dataframe tbody tr th {\n",
       "        vertical-align: top;\n",
       "    }\n",
       "\n",
       "    .dataframe thead th {\n",
       "        text-align: right;\n",
       "    }\n",
       "</style>\n",
       "<table border=\"1\" class=\"dataframe\">\n",
       "  <thead>\n",
       "    <tr style=\"text-align: right;\">\n",
       "      <th></th>\n",
       "      <th>review</th>\n",
       "      <th>rating</th>\n",
       "      <th>thumbs_up</th>\n",
       "      <th>app</th>\n",
       "      <th>text_token</th>\n",
       "    </tr>\n",
       "  </thead>\n",
       "  <tbody>\n",
       "    <tr>\n",
       "      <th>0</th>\n",
       "      <td>on this app i cant find a partner</td>\n",
       "      <td>5</td>\n",
       "      <td>0</td>\n",
       "      <td>Tinder</td>\n",
       "      <td>cant find partner</td>\n",
       "    </tr>\n",
       "    <tr>\n",
       "      <th>1</th>\n",
       "      <td>tinder would be so much better if we could spe...</td>\n",
       "      <td>3</td>\n",
       "      <td>0</td>\n",
       "      <td>Tinder</td>\n",
       "      <td>would much better could specify race looking i...</td>\n",
       "    </tr>\n",
       "    <tr>\n",
       "      <th>2</th>\n",
       "      <td>still doesn't correctly notify matches or mess...</td>\n",
       "      <td>1</td>\n",
       "      <td>0</td>\n",
       "      <td>Tinder</td>\n",
       "      <td>still correctly notify matches messages monopo...</td>\n",
       "    </tr>\n",
       "    <tr>\n",
       "      <th>3</th>\n",
       "      <td>got banned because i updated my bio to say \"i ...</td>\n",
       "      <td>2</td>\n",
       "      <td>0</td>\n",
       "      <td>Tinder</td>\n",
       "      <td>banned updated bio feel like girls looking plu...</td>\n",
       "    </tr>\n",
       "    <tr>\n",
       "      <th>4</th>\n",
       "      <td>love it!</td>\n",
       "      <td>5</td>\n",
       "      <td>0</td>\n",
       "      <td>Tinder</td>\n",
       "      <td>love</td>\n",
       "    </tr>\n",
       "  </tbody>\n",
       "</table>\n",
       "</div>"
      ],
      "text/plain": [
       "                                              review  rating  thumbs_up  \\\n",
       "0                  on this app i cant find a partner       5          0   \n",
       "1  tinder would be so much better if we could spe...       3          0   \n",
       "2  still doesn't correctly notify matches or mess...       1          0   \n",
       "3  got banned because i updated my bio to say \"i ...       2          0   \n",
       "4                                           love it!       5          0   \n",
       "\n",
       "      app                                         text_token  \n",
       "0  Tinder                                  cant find partner  \n",
       "1  Tinder  would much better could specify race looking i...  \n",
       "2  Tinder  still correctly notify matches messages monopo...  \n",
       "3  Tinder  banned updated bio feel like girls looking plu...  \n",
       "4  Tinder                                               love  "
      ]
     },
     "execution_count": 136,
     "metadata": {},
     "output_type": "execute_result"
    }
   ],
   "source": [
    "# Remove infrequent words\n",
    "word_analyst['text_token'] = word_analyst['text_token'].apply(lambda x: ' '.join([item for item in x if len(item) > 2]))\n",
    "word_analyst.head(5)"
   ]
  },
  {
   "cell_type": "code",
   "execution_count": 137,
   "id": "d4630956",
   "metadata": {},
   "outputs": [],
   "source": [
    "# store the dataset for future usage\n",
    "with open(\"C:/Users/Forge-15 1650/Google Drive/Portfolio/Playground/word_dataset.pickle\", 'wb') as output:\n",
    "    pickle.dump(word_analyst, output)"
   ]
  },
  {
   "cell_type": "markdown",
   "id": "b04ed727",
   "metadata": {},
   "source": [
    "## For word analysis, start here"
   ]
  },
  {
   "cell_type": "code",
   "execution_count": 138,
   "id": "06843ec4",
   "metadata": {},
   "outputs": [],
   "source": [
    "word_analyst = pd.read_pickle(\"./word_dataset.pickle\")"
   ]
  },
  {
   "cell_type": "code",
   "execution_count": 139,
   "id": "d70f335b",
   "metadata": {},
   "outputs": [
    {
     "data": {
      "text/html": [
       "<div>\n",
       "<style scoped>\n",
       "    .dataframe tbody tr th:only-of-type {\n",
       "        vertical-align: middle;\n",
       "    }\n",
       "\n",
       "    .dataframe tbody tr th {\n",
       "        vertical-align: top;\n",
       "    }\n",
       "\n",
       "    .dataframe thead th {\n",
       "        text-align: right;\n",
       "    }\n",
       "</style>\n",
       "<table border=\"1\" class=\"dataframe\">\n",
       "  <thead>\n",
       "    <tr style=\"text-align: right;\">\n",
       "      <th></th>\n",
       "      <th>review</th>\n",
       "      <th>rating</th>\n",
       "      <th>thumbs_up</th>\n",
       "      <th>app</th>\n",
       "      <th>text_token</th>\n",
       "    </tr>\n",
       "  </thead>\n",
       "  <tbody>\n",
       "    <tr>\n",
       "      <th>0</th>\n",
       "      <td>on this app i cant find a partner</td>\n",
       "      <td>5</td>\n",
       "      <td>0</td>\n",
       "      <td>Tinder</td>\n",
       "      <td>cant find partner</td>\n",
       "    </tr>\n",
       "    <tr>\n",
       "      <th>1</th>\n",
       "      <td>tinder would be so much better if we could spe...</td>\n",
       "      <td>3</td>\n",
       "      <td>0</td>\n",
       "      <td>Tinder</td>\n",
       "      <td>would much better could specify race looking i...</td>\n",
       "    </tr>\n",
       "    <tr>\n",
       "      <th>2</th>\n",
       "      <td>still doesn't correctly notify matches or mess...</td>\n",
       "      <td>1</td>\n",
       "      <td>0</td>\n",
       "      <td>Tinder</td>\n",
       "      <td>still correctly notify matches messages monopo...</td>\n",
       "    </tr>\n",
       "    <tr>\n",
       "      <th>3</th>\n",
       "      <td>got banned because i updated my bio to say \"i ...</td>\n",
       "      <td>2</td>\n",
       "      <td>0</td>\n",
       "      <td>Tinder</td>\n",
       "      <td>banned updated bio feel like girls looking plu...</td>\n",
       "    </tr>\n",
       "    <tr>\n",
       "      <th>4</th>\n",
       "      <td>love it!</td>\n",
       "      <td>5</td>\n",
       "      <td>0</td>\n",
       "      <td>Tinder</td>\n",
       "      <td>love</td>\n",
       "    </tr>\n",
       "  </tbody>\n",
       "</table>\n",
       "</div>"
      ],
      "text/plain": [
       "                                              review  rating  thumbs_up  \\\n",
       "0                  on this app i cant find a partner       5          0   \n",
       "1  tinder would be so much better if we could spe...       3          0   \n",
       "2  still doesn't correctly notify matches or mess...       1          0   \n",
       "3  got banned because i updated my bio to say \"i ...       2          0   \n",
       "4                                           love it!       5          0   \n",
       "\n",
       "      app                                         text_token  \n",
       "0  Tinder                                  cant find partner  \n",
       "1  Tinder  would much better could specify race looking i...  \n",
       "2  Tinder  still correctly notify matches messages monopo...  \n",
       "3  Tinder  banned updated bio feel like girls looking plu...  \n",
       "4  Tinder                                               love  "
      ]
     },
     "execution_count": 139,
     "metadata": {},
     "output_type": "execute_result"
    }
   ],
   "source": [
    "word_analyst.head(5)"
   ]
  },
  {
   "cell_type": "code",
   "execution_count": 140,
   "id": "c596478b",
   "metadata": {},
   "outputs": [
    {
     "name": "stderr",
     "output_type": "stream",
     "text": [
      "[nltk_data] Downloading package wordnet to C:\\Users\\Forge-15\n",
      "[nltk_data]     1650\\AppData\\Roaming\\nltk_data...\n",
      "[nltk_data]   Package wordnet is already up-to-date!\n"
     ]
    },
    {
     "data": {
      "text/plain": [
       "True"
      ]
     },
     "execution_count": 140,
     "metadata": {},
     "output_type": "execute_result"
    }
   ],
   "source": [
    "# Lemmatisation\n",
    "nltk.download('wordnet')"
   ]
  },
  {
   "cell_type": "code",
   "execution_count": 141,
   "id": "8a21e4fe",
   "metadata": {},
   "outputs": [],
   "source": [
    "from nltk.stem import WordNetLemmatizer\n",
    "\n",
    "wordnet_lem = WordNetLemmatizer()\n",
    "word_analyst['text_token'] = word_analyst['text_token'].apply(wordnet_lem.lemmatize)"
   ]
  },
  {
   "cell_type": "code",
   "execution_count": 142,
   "id": "ce83992c",
   "metadata": {},
   "outputs": [],
   "source": [
    "all_words = ' '.join([word for word in word_analyst['text_token']])"
   ]
  },
  {
   "cell_type": "code",
   "execution_count": 143,
   "id": "d02fec3f",
   "metadata": {},
   "outputs": [
    {
     "data": {
      "text/plain": [
       "(-0.5, 599.5, 399.5, -0.5)"
      ]
     },
     "execution_count": 143,
     "metadata": {},
     "output_type": "execute_result"
    },
    {
     "data": {
      "image/png": "[encoded data removed]",
      "text/plain": [
       "<Figure size 720x504 with 1 Axes>"
      ]
     },
     "metadata": {},
     "output_type": "display_data"
    }
   ],
   "source": [
    "from wordcloud import WordCloud\n",
    "\n",
    "wordcloud = WordCloud(width=600,\n",
    "                     height=400,\n",
    "                     random_state=2,\n",
    "                     max_font_size=100).generate(all_words)\n",
    "\n",
    "plt.figure(figsize=(10, 7))\n",
    "plt.imshow(wordcloud, interpolation='bilinear')\n",
    "plt.axis('off')"
   ]
  },
  {
   "cell_type": "code",
   "execution_count": 145,
   "id": "b4679c3e",
   "metadata": {},
   "outputs": [
    {
     "data": {
      "text/plain": [
       "<matplotlib.image.AxesImage at 0x1f4a6cc1f40>"
      ]
     },
     "execution_count": 145,
     "metadata": {},
     "output_type": "execute_result"
    },
    {
     "data": {
      "image/png": "[encoded data removed]",
      "text/plain": [
       "<Figure size 432x288 with 1 Axes>"
      ]
     },
     "metadata": {},
     "output_type": "display_data"
    }
   ],
   "source": [
    "x, y = np.ogrid[:300, :300]\n",
    "mask = (x - 150) ** 2 + (y - 150) ** 2 > 130 ** 2\n",
    "mask = 255 * mask.astype(int)\n",
    "\n",
    "wc = WordCloud(background_color=\"white\", repeat=True, mask=mask)\n",
    "wc.generate(all_words)\n",
    "\n",
    "plt.axis(\"off\")\n",
    "plt.imshow(wc, interpolation=\"bilinear\")"
   ]
  },
  {
   "cell_type": "markdown",
   "id": "b2090d0e",
   "metadata": {},
   "source": [
    "## Frequency distributions"
   ]
  },
  {
   "cell_type": "code",
   "execution_count": 146,
   "id": "b25d5e12",
   "metadata": {},
   "outputs": [
    {
     "name": "stderr",
     "output_type": "stream",
     "text": [
      "[nltk_data] Downloading package punkt to C:\\Users\\Forge-15\n",
      "[nltk_data]     1650\\AppData\\Roaming\\nltk_data...\n",
      "[nltk_data]   Package punkt is already up-to-date!\n"
     ]
    },
    {
     "data": {
      "text/plain": [
       "True"
      ]
     },
     "execution_count": 146,
     "metadata": {},
     "output_type": "execute_result"
    }
   ],
   "source": [
    "nltk.download('punkt')"
   ]
  },
  {
   "cell_type": "code",
   "execution_count": 147,
   "id": "e635222f",
   "metadata": {},
   "outputs": [],
   "source": [
    "from nltk.tokenize import word_tokenize\n",
    "from nltk.probability import FreqDist\n",
    "\n",
    "words = nltk.word_tokenize(all_words)\n",
    "fd = FreqDist(words)"
   ]
  },
  {
   "cell_type": "markdown",
   "id": "a48a9a12",
   "metadata": {},
   "source": [
    "### Most common words"
   ]
  },
  {
   "cell_type": "code",
   "execution_count": 149,
   "id": "a7515c97",
   "metadata": {},
   "outputs": [
    {
     "data": {
      "text/plain": [
       "[('good', 80952),\n",
       " ('like', 59755),\n",
       " ('get', 59296),\n",
       " ('great', 45008),\n",
       " ('even', 43812),\n",
       " ('matches', 41944),\n",
       " ('match', 30216),\n",
       " ('nice', 30046)]"
      ]
     },
     "execution_count": 149,
     "metadata": {},
     "output_type": "execute_result"
    }
   ],
   "source": [
    "fd.most_common(8)"
   ]
  },
  {
   "cell_type": "code",
   "execution_count": 150,
   "id": "f0b6000c",
   "metadata": {},
   "outputs": [
    {
     "name": "stdout",
     "output_type": "stream",
     "text": [
      " good  like   get great  even \n",
      "80952 59755 59296 45008 43812 \n"
     ]
    }
   ],
   "source": [
    "fd.tabulate(5)"
   ]
  },
  {
   "cell_type": "markdown",
   "id": "1a8d7fd6",
   "metadata": {},
   "source": [
    "### Plot common words"
   ]
  },
  {
   "cell_type": "code",
   "execution_count": 151,
   "id": "35cc6e47",
   "metadata": {},
   "outputs": [],
   "source": [
    "# Get top 10 words\n",
    "top_10 = fd.most_common(10)\n",
    "\n",
    "# create pandas series to make ploting easier\n",
    "fdist = pd.Series(dict(top_10))"
   ]
  },
  {
   "cell_type": "code",
   "execution_count": 152,
   "id": "5a65cd44",
   "metadata": {},
   "outputs": [],
   "source": [
    "sb.set_theme(style=\"whitegrid\")"
   ]
  },
  {
   "cell_type": "code",
   "execution_count": 153,
   "id": "6b0bbf7b",
   "metadata": {},
   "outputs": [
    {
     "data": {
      "text/plain": [
       "<AxesSubplot:>"
      ]
     },
     "execution_count": 153,
     "metadata": {},
     "output_type": "execute_result"
    },
    {
     "data": {
      "image/png": "[encoded data removed]",
      "text/plain": [
       "<Figure size 432x288 with 1 Axes>"
      ]
     },
     "metadata": {},
     "output_type": "display_data"
    }
   ],
   "source": [
    "sb.barplot(y=fdist.index, x=fdist.values, color=\"blue\")"
   ]
  },
  {
   "cell_type": "code",
   "execution_count": 156,
   "id": "866f45ae",
   "metadata": {},
   "outputs": [
    {
     "data": {
      "application/vnd.plotly.v1+json": {
       "config": {
        "plotlyServerURL": "https://plot.ly"
       },
       "data": [
        {
         "alignmentgroup": "True",
         "hovertemplate": "x=%{x}<br>y=%{y}<extra></extra>",
         "legendgroup": "",
         "marker": {
          "color": "#636efa",
          "pattern": {
           "shape": ""
          }
         },
         "name": "",
         "offsetgroup": "",
         "orientation": "h",
         "showlegend": false,
         "textposition": "auto",
         "type": "bar",
         "x": [
          80952,
          59755,
          59296,
          45008,
          43812,
          41944,
          30216,
          30046,
          27451,
          27147
         ],
         "xaxis": "x",
         "y": [
          "good",
          "like",
          "get",
          "great",
          "even",
          "matches",
          "match",
          "nice",
          "pay",
          "money"
         ],
         "yaxis": "y"
        }
       ],
       "layout": {
        "barmode": "stack",
        "legend": {
         "tracegroupgap": 0
        },
        "margin": {
         "t": 60
        },
        "template": {
         "data": {
          "bar": [
           {
            "error_x": {
             "color": "#2a3f5f"
            },
            "error_y": {
             "color": "#2a3f5f"
            },
            "marker": {
             "line": {
              "color": "#E5ECF6",
              "width": 0.5
             },
             "pattern": {
              "fillmode": "overlay",
              "size": 10,
              "solidity": 0.2
             }
            },
            "type": "bar"
           }
          ],
          "barpolar": [
           {
            "marker": {
             "line": {
              "color": "#E5ECF6",
              "width": 0.5
             },
             "pattern": {
              "fillmode": "overlay",
              "size": 10,
              "solidity": 0.2
             }
            },
            "type": "barpolar"
           }
          ],
          "carpet": [
           {
            "aaxis": {
             "endlinecolor": "#2a3f5f",
             "gridcolor": "white",
             "linecolor": "white",
             "minorgridcolor": "white",
             "startlinecolor": "#2a3f5f"
            },
            "baxis": {
             "endlinecolor": "#2a3f5f",
             "gridcolor": "white",
             "linecolor": "white",
             "minorgridcolor": "white",
             "startlinecolor": "#2a3f5f"
            },
            "type": "carpet"
           }
          ],
          "choropleth": [
           {
            "colorbar": {
             "outlinewidth": 0,
             "ticks": ""
            },
            "type": "choropleth"
           }
          ],
          "contour": [
           {
            "colorbar": {
             "outlinewidth": 0,
             "ticks": ""
            },
            "colorscale": [
             [
              0,
              "#0d0887"
             ],
             [
              0.1111111111111111,
              "#46039f"
             ],
             [
              0.2222222222222222,
              "#7201a8"
             ],
             [
              0.3333333333333333,
              "#9c179e"
             ],
             [
              0.4444444444444444,
              "#bd3786"
             ],
             [
              0.5555555555555556,
              "#d8576b"
             ],
             [
              0.6666666666666666,
              "#ed7953"
             ],
             [
              0.7777777777777778,
              "#fb9f3a"
             ],
             [
              0.8888888888888888,
              "#fdca26"
             ],
             [
              1,
              "#f0f921"
             ]
            ],
            "type": "contour"
           }
          ],
          "contourcarpet": [
           {
            "colorbar": {
             "outlinewidth": 0,
             "ticks": ""
            },
            "type": "contourcarpet"
           }
          ],
          "heatmap": [
           {
            "colorbar": {
             "outlinewidth": 0,
             "ticks": ""
            },
            "colorscale": [
             [
              0,
              "#0d0887"
             ],
             [
              0.1111111111111111,
              "#46039f"
             ],
             [
              0.2222222222222222,
              "#7201a8"
             ],
             [
              0.3333333333333333,
              "#9c179e"
             ],
             [
              0.4444444444444444,
              "#bd3786"
             ],
             [
              0.5555555555555556,
              "#d8576b"
             ],
             [
              0.6666666666666666,
              "#ed7953"
             ],
             [
              0.7777777777777778,
              "#fb9f3a"
             ],
             [
              0.8888888888888888,
              "#fdca26"
             ],
             [
              1,
              "#f0f921"
             ]
            ],
            "type": "heatmap"
           }
          ],
          "heatmapgl": [
           {
            "colorbar": {
             "outlinewidth": 0,
             "ticks": ""
            },
            "colorscale": [
             [
              0,
              "#0d0887"
             ],
             [
              0.1111111111111111,
              "#46039f"
             ],
             [
              0.2222222222222222,
              "#7201a8"
             ],
             [
              0.3333333333333333,
              "#9c179e"
             ],
             [
              0.4444444444444444,
              "#bd3786"
             ],
             [
              0.5555555555555556,
              "#d8576b"
             ],
             [
              0.6666666666666666,
              "#ed7953"
             ],
             [
              0.7777777777777778,
              "#fb9f3a"
             ],
             [
              0.8888888888888888,
              "#fdca26"
             ],
             [
              1,
              "#f0f921"
             ]
            ],
            "type": "heatmapgl"
           }
          ],
          "histogram": [
           {
            "marker": {
             "pattern": {
              "fillmode": "overlay",
              "size": 10,
              "solidity": 0.2
             }
            },
            "type": "histogram"
           }
          ],
          "histogram2d": [
           {
            "colorbar": {
             "outlinewidth": 0,
             "ticks": ""
            },
            "colorscale": [
             [
              0,
              "#0d0887"
             ],
             [
              0.1111111111111111,
              "#46039f"
             ],
             [
              0.2222222222222222,
              "#7201a8"
             ],
             [
              0.3333333333333333,
              "#9c179e"
             ],
             [
              0.4444444444444444,
              "#bd3786"
             ],
             [
              0.5555555555555556,
              "#d8576b"
             ],
             [
              0.6666666666666666,
              "#ed7953"
             ],
             [
              0.7777777777777778,
              "#fb9f3a"
             ],
             [
              0.8888888888888888,
              "#fdca26"
             ],
             [
              1,
              "#f0f921"
             ]
            ],
            "type": "histogram2d"
           }
          ],
          "histogram2dcontour": [
           {
            "colorbar": {
             "outlinewidth": 0,
             "ticks": ""
            },
            "colorscale": [
             [
              0,
              "#0d0887"
             ],
             [
              0.1111111111111111,
              "#46039f"
             ],
             [
              0.2222222222222222,
              "#7201a8"
             ],
             [
              0.3333333333333333,
              "#9c179e"
             ],
             [
              0.4444444444444444,
              "#bd3786"
             ],
             [
              0.5555555555555556,
              "#d8576b"
             ],
             [
              0.6666666666666666,
              "#ed7953"
             ],
             [
              0.7777777777777778,
              "#fb9f3a"
             ],
             [
              0.8888888888888888,
              "#fdca26"
             ],
             [
              1,
              "#f0f921"
             ]
            ],
            "type": "histogram2dcontour"
           }
          ],
          "mesh3d": [
           {
            "colorbar": {
             "outlinewidth": 0,
             "ticks": ""
            },
            "type": "mesh3d"
           }
          ],
          "parcoords": [
           {
            "line": {
             "colorbar": {
              "outlinewidth": 0,
              "ticks": ""
             }
            },
            "type": "parcoords"
           }
          ],
          "pie": [
           {
            "automargin": true,
            "type": "pie"
           }
          ],
          "scatter": [
           {
            "marker": {
             "colorbar": {
              "outlinewidth": 0,
              "ticks": ""
             }
            },
            "type": "scatter"
           }
          ],
          "scatter3d": [
           {
            "line": {
             "colorbar": {
              "outlinewidth": 0,
              "ticks": ""
             }
            },
            "marker": {
             "colorbar": {
              "outlinewidth": 0,
              "ticks": ""
             }
            },
            "type": "scatter3d"
           }
          ],
          "scattercarpet": [
           {
            "marker": {
             "colorbar": {
              "outlinewidth": 0,
              "ticks": ""
             }
            },
            "type": "scattercarpet"
           }
          ],
          "scattergeo": [
           {
            "marker": {
             "colorbar": {
              "outlinewidth": 0,
              "ticks": ""
             }
            },
            "type": "scattergeo"
           }
          ],
          "scattergl": [
           {
            "marker": {
             "colorbar": {
              "outlinewidth": 0,
              "ticks": ""
             }
            },
            "type": "scattergl"
           }
          ],
          "scattermapbox": [
           {
            "marker": {
             "colorbar": {
              "outlinewidth": 0,
              "ticks": ""
             }
            },
            "type": "scattermapbox"
           }
          ],
          "scatterpolar": [
           {
            "marker": {
             "colorbar": {
              "outlinewidth": 0,
              "ticks": ""
             }
            },
            "type": "scatterpolar"
           }
          ],
          "scatterpolargl": [
           {
            "marker": {
             "colorbar": {
              "outlinewidth": 0,
              "ticks": ""
             }
            },
            "type": "scatterpolargl"
           }
          ],
          "scatterternary": [
           {
            "marker": {
             "colorbar": {
              "outlinewidth": 0,
              "ticks": ""
             }
            },
            "type": "scatterternary"
           }
          ],
          "surface": [
           {
            "colorbar": {
             "outlinewidth": 0,
             "ticks": ""
            },
            "colorscale": [
             [
              0,
              "#0d0887"
             ],
             [
              0.1111111111111111,
              "#46039f"
             ],
             [
              0.2222222222222222,
              "#7201a8"
             ],
             [
              0.3333333333333333,
              "#9c179e"
             ],
             [
              0.4444444444444444,
              "#bd3786"
             ],
             [
              0.5555555555555556,
              "#d8576b"
             ],
             [
              0.6666666666666666,
              "#ed7953"
             ],
             [
              0.7777777777777778,
              "#fb9f3a"
             ],
             [
              0.8888888888888888,
              "#fdca26"
             ],
             [
              1,
              "#f0f921"
             ]
            ],
            "type": "surface"
           }
          ],
          "table": [
           {
            "cells": {
             "fill": {
              "color": "#EBF0F8"
             },
             "line": {
              "color": "white"
             }
            },
            "header": {
             "fill": {
              "color": "#C8D4E3"
             },
             "line": {
              "color": "white"
             }
            },
            "type": "table"
           }
          ]
         },
         "layout": {
          "annotationdefaults": {
           "arrowcolor": "#2a3f5f",
           "arrowhead": 0,
           "arrowwidth": 1
          },
          "autotypenumbers": "strict",
          "coloraxis": {
           "colorbar": {
            "outlinewidth": 0,
            "ticks": ""
           }
          },
          "colorscale": {
           "diverging": [
            [
             0,
             "#8e0152"
            ],
            [
             0.1,
             "#c51b7d"
            ],
            [
             0.2,
             "#de77ae"
            ],
            [
             0.3,
             "#f1b6da"
            ],
            [
             0.4,
             "#fde0ef"
            ],
            [
             0.5,
             "#f7f7f7"
            ],
            [
             0.6,
             "#e6f5d0"
            ],
            [
             0.7,
             "#b8e186"
            ],
            [
             0.8,
             "#7fbc41"
            ],
            [
             0.9,
             "#4d9221"
            ],
            [
             1,
             "#276419"
            ]
           ],
           "sequential": [
            [
             0,
             "#0d0887"
            ],
            [
             0.1111111111111111,
             "#46039f"
            ],
            [
             0.2222222222222222,
             "#7201a8"
            ],
            [
             0.3333333333333333,
             "#9c179e"
            ],
            [
             0.4444444444444444,
             "#bd3786"
            ],
            [
             0.5555555555555556,
             "#d8576b"
            ],
            [
             0.6666666666666666,
             "#ed7953"
            ],
            [
             0.7777777777777778,
             "#fb9f3a"
            ],
            [
             0.8888888888888888,
             "#fdca26"
            ],
            [
             1,
             "#f0f921"
            ]
           ],
           "sequentialminus": [
            [
             0,
             "#0d0887"
            ],
            [
             0.1111111111111111,
             "#46039f"
            ],
            [
             0.2222222222222222,
             "#7201a8"
            ],
            [
             0.3333333333333333,
             "#9c179e"
            ],
            [
             0.4444444444444444,
             "#bd3786"
            ],
            [
             0.5555555555555556,
             "#d8576b"
            ],
            [
             0.6666666666666666,
             "#ed7953"
            ],
            [
             0.7777777777777778,
             "#fb9f3a"
            ],
            [
             0.8888888888888888,
             "#fdca26"
            ],
            [
             1,
             "#f0f921"
            ]
           ]
          },
          "colorway": [
           "#636efa",
           "#EF553B",
           "#00cc96",
           "#ab63fa",
           "#FFA15A",
           "#19d3f3",
           "#FF6692",
           "#B6E880",
           "#FF97FF",
           "#FECB52"
          ],
          "font": {
           "color": "#2a3f5f"
          },
          "geo": {
           "bgcolor": "white",
           "lakecolor": "white",
           "landcolor": "#E5ECF6",
           "showlakes": true,
           "showland": true,
           "subunitcolor": "white"
          },
          "hoverlabel": {
           "align": "left"
          },
          "hovermode": "closest",
          "mapbox": {
           "style": "light"
          },
          "paper_bgcolor": "white",
          "plot_bgcolor": "#E5ECF6",
          "polar": {
           "angularaxis": {
            "gridcolor": "white",
            "linecolor": "white",
            "ticks": ""
           },
           "bgcolor": "#E5ECF6",
           "radialaxis": {
            "gridcolor": "white",
            "linecolor": "white",
            "ticks": ""
           }
          },
          "scene": {
           "xaxis": {
            "backgroundcolor": "#E5ECF6",
            "gridcolor": "white",
            "gridwidth": 2,
            "linecolor": "white",
            "showbackground": true,
            "ticks": "",
            "zerolinecolor": "white"
           },
           "yaxis": {
            "backgroundcolor": "#E5ECF6",
            "gridcolor": "white",
            "gridwidth": 2,
            "linecolor": "white",
            "showbackground": true,
            "ticks": "",
            "zerolinecolor": "white"
           },
           "zaxis": {
            "backgroundcolor": "#E5ECF6",
            "gridcolor": "white",
            "gridwidth": 2,
            "linecolor": "white",
            "showbackground": true,
            "ticks": "",
            "zerolinecolor": "white"
           }
          },
          "shapedefaults": {
           "line": {
            "color": "#2a3f5f"
           }
          },
          "ternary": {
           "aaxis": {
            "gridcolor": "white",
            "linecolor": "white",
            "ticks": ""
           },
           "baxis": {
            "gridcolor": "white",
            "linecolor": "white",
            "ticks": ""
           },
           "bgcolor": "#E5ECF6",
           "caxis": {
            "gridcolor": "white",
            "linecolor": "white",
            "ticks": ""
           }
          },
          "title": {
           "x": 0.05
          },
          "xaxis": {
           "automargin": true,
           "gridcolor": "white",
           "linecolor": "white",
           "ticks": "",
           "title": {
            "standoff": 15
           },
           "zerolinecolor": "white",
           "zerolinewidth": 2
          },
          "yaxis": {
           "automargin": true,
           "gridcolor": "white",
           "linecolor": "white",
           "ticks": "",
           "title": {
            "standoff": 15
           },
           "zerolinecolor": "white",
           "zerolinewidth": 2
          }
         }
        },
        "xaxis": {
         "anchor": "y",
         "domain": [
          0,
          1
         ],
         "title": {
          "text": "x"
         }
        },
        "yaxis": {
         "anchor": "x",
         "categoryorder": "total ascending",
         "domain": [
          0,
          1
         ],
         "title": {
          "text": "y"
         }
        }
       }
      },
      "text/html": [
       "<div>                            <div id=\"2f69ecaf-e06b-4784-8eaf-4ff5895d1304\" class=\"plotly-graph-div\" style=\"height:525px; width:100%;\"></div>            <script type=\"text/javascript\">                require([\"plotly\"], function(Plotly) {                    window.PLOTLYENV=window.PLOTLYENV || {};                                    if (document.getElementById(\"2f69ecaf-e06b-4784-8eaf-4ff5895d1304\")) {                    Plotly.newPlot(                        \"2f69ecaf-e06b-4784-8eaf-4ff5895d1304\",                        [{\"alignmentgroup\":\"True\",\"hovertemplate\":\"x=%{x}<br>y=%{y}<extra></extra>\",\"legendgroup\":\"\",\"marker\":{\"color\":\"#636efa\",\"pattern\":{\"shape\":\"\"}},\"name\":\"\",\"offsetgroup\":\"\",\"orientation\":\"h\",\"showlegend\":false,\"textposition\":\"auto\",\"x\":[80952,59755,59296,45008,43812,41944,30216,30046,27451,27147],\"xaxis\":\"x\",\"y\":[\"good\",\"like\",\"get\",\"great\",\"even\",\"matches\",\"match\",\"nice\",\"pay\",\"money\"],\"yaxis\":\"y\",\"type\":\"bar\"}],                        {\"template\":{\"data\":{\"bar\":[{\"error_x\":{\"color\":\"#2a3f5f\"},\"error_y\":{\"color\":\"#2a3f5f\"},\"marker\":{\"line\":{\"color\":\"#E5ECF6\",\"width\":0.5},\"pattern\":{\"fillmode\":\"overlay\",\"size\":10,\"solidity\":0.2}},\"type\":\"bar\"}],\"barpolar\":[{\"marker\":{\"line\":{\"color\":\"#E5ECF6\",\"width\":0.5},\"pattern\":{\"fillmode\":\"overlay\",\"size\":10,\"solidity\":0.2}},\"type\":\"barpolar\"}],\"carpet\":[{\"aaxis\":{\"endlinecolor\":\"#2a3f5f\",\"gridcolor\":\"white\",\"linecolor\":\"white\",\"minorgridcolor\":\"white\",\"startlinecolor\":\"#2a3f5f\"},\"baxis\":{\"endlinecolor\":\"#2a3f5f\",\"gridcolor\":\"white\",\"linecolor\":\"white\",\"minorgridcolor\":\"white\",\"startlinecolor\":\"#2a3f5f\"},\"type\":\"carpet\"}],\"choropleth\":[{\"colorbar\":{\"outlinewidth\":0,\"ticks\":\"\"},\"type\":\"choropleth\"}],\"contour\":[{\"colorbar\":{\"outlinewidth\":0,\"ticks\":\"\"},\"colorscale\":[[0.0,\"#0d0887\"],[0.1111111111111111,\"#46039f\"],[0.2222222222222222,\"#7201a8\"],[0.3333333333333333,\"#9c179e\"],[0.4444444444444444,\"#bd3786\"],[0.5555555555555556,\"#d8576b\"],[0.6666666666666666,\"#ed7953\"],[0.7777777777777778,\"#fb9f3a\"],[0.8888888888888888,\"#fdca26\"],[1.0,\"#f0f921\"]],\"type\":\"contour\"}],\"contourcarpet\":[{\"colorbar\":{\"outlinewidth\":0,\"ticks\":\"\"},\"type\":\"contourcarpet\"}],\"heatmap\":[{\"colorbar\":{\"outlinewidth\":0,\"ticks\":\"\"},\"colorscale\":[[0.0,\"#0d0887\"],[0.1111111111111111,\"#46039f\"],[0.2222222222222222,\"#7201a8\"],[0.3333333333333333,\"#9c179e\"],[0.4444444444444444,\"#bd3786\"],[0.5555555555555556,\"#d8576b\"],[0.6666666666666666,\"#ed7953\"],[0.7777777777777778,\"#fb9f3a\"],[0.8888888888888888,\"#fdca26\"],[1.0,\"#f0f921\"]],\"type\":\"heatmap\"}],\"heatmapgl\":[{\"colorbar\":{\"outlinewidth\":0,\"ticks\":\"\"},\"colorscale\":[[0.0,\"#0d0887\"],[0.1111111111111111,\"#46039f\"],[0.2222222222222222,\"#7201a8\"],[0.3333333333333333,\"#9c179e\"],[0.4444444444444444,\"#bd3786\"],[0.5555555555555556,\"#d8576b\"],[0.6666666666666666,\"#ed7953\"],[0.7777777777777778,\"#fb9f3a\"],[0.8888888888888888,\"#fdca26\"],[1.0,\"#f0f921\"]],\"type\":\"heatmapgl\"}],\"histogram\":[{\"marker\":{\"pattern\":{\"fillmode\":\"overlay\",\"size\":10,\"solidity\":0.2}},\"type\":\"histogram\"}],\"histogram2d\":[{\"colorbar\":{\"outlinewidth\":0,\"ticks\":\"\"},\"colorscale\":[[0.0,\"#0d0887\"],[0.1111111111111111,\"#46039f\"],[0.2222222222222222,\"#7201a8\"],[0.3333333333333333,\"#9c179e\"],[0.4444444444444444,\"#bd3786\"],[0.5555555555555556,\"#d8576b\"],[0.6666666666666666,\"#ed7953\"],[0.7777777777777778,\"#fb9f3a\"],[0.8888888888888888,\"#fdca26\"],[1.0,\"#f0f921\"]],\"type\":\"histogram2d\"}],\"histogram2dcontour\":[{\"colorbar\":{\"outlinewidth\":0,\"ticks\":\"\"},\"colorscale\":[[0.0,\"#0d0887\"],[0.1111111111111111,\"#46039f\"],[0.2222222222222222,\"#7201a8\"],[0.3333333333333333,\"#9c179e\"],[0.4444444444444444,\"#bd3786\"],[0.5555555555555556,\"#d8576b\"],[0.6666666666666666,\"#ed7953\"],[0.7777777777777778,\"#fb9f3a\"],[0.8888888888888888,\"#fdca26\"],[1.0,\"#f0f921\"]],\"type\":\"histogram2dcontour\"}],\"mesh3d\":[{\"colorbar\":{\"outlinewidth\":0,\"ticks\":\"\"},\"type\":\"mesh3d\"}],\"parcoords\":[{\"line\":{\"colorbar\":{\"outlinewidth\":0,\"ticks\":\"\"}},\"type\":\"parcoords\"}],\"pie\":[{\"automargin\":true,\"type\":\"pie\"}],\"scatter\":[{\"marker\":{\"colorbar\":{\"outlinewidth\":0,\"ticks\":\"\"}},\"type\":\"scatter\"}],\"scatter3d\":[{\"line\":{\"colorbar\":{\"outlinewidth\":0,\"ticks\":\"\"}},\"marker\":{\"colorbar\":{\"outlinewidth\":0,\"ticks\":\"\"}},\"type\":\"scatter3d\"}],\"scattercarpet\":[{\"marker\":{\"colorbar\":{\"outlinewidth\":0,\"ticks\":\"\"}},\"type\":\"scattercarpet\"}],\"scattergeo\":[{\"marker\":{\"colorbar\":{\"outlinewidth\":0,\"ticks\":\"\"}},\"type\":\"scattergeo\"}],\"scattergl\":[{\"marker\":{\"colorbar\":{\"outlinewidth\":0,\"ticks\":\"\"}},\"type\":\"scattergl\"}],\"scattermapbox\":[{\"marker\":{\"colorbar\":{\"outlinewidth\":0,\"ticks\":\"\"}},\"type\":\"scattermapbox\"}],\"scatterpolar\":[{\"marker\":{\"colorbar\":{\"outlinewidth\":0,\"ticks\":\"\"}},\"type\":\"scatterpolar\"}],\"scatterpolargl\":[{\"marker\":{\"colorbar\":{\"outlinewidth\":0,\"ticks\":\"\"}},\"type\":\"scatterpolargl\"}],\"scatterternary\":[{\"marker\":{\"colorbar\":{\"outlinewidth\":0,\"ticks\":\"\"}},\"type\":\"scatterternary\"}],\"surface\":[{\"colorbar\":{\"outlinewidth\":0,\"ticks\":\"\"},\"colorscale\":[[0.0,\"#0d0887\"],[0.1111111111111111,\"#46039f\"],[0.2222222222222222,\"#7201a8\"],[0.3333333333333333,\"#9c179e\"],[0.4444444444444444,\"#bd3786\"],[0.5555555555555556,\"#d8576b\"],[0.6666666666666666,\"#ed7953\"],[0.7777777777777778,\"#fb9f3a\"],[0.8888888888888888,\"#fdca26\"],[1.0,\"#f0f921\"]],\"type\":\"surface\"}],\"table\":[{\"cells\":{\"fill\":{\"color\":\"#EBF0F8\"},\"line\":{\"color\":\"white\"}},\"header\":{\"fill\":{\"color\":\"#C8D4E3\"},\"line\":{\"color\":\"white\"}},\"type\":\"table\"}]},\"layout\":{\"annotationdefaults\":{\"arrowcolor\":\"#2a3f5f\",\"arrowhead\":0,\"arrowwidth\":1},\"autotypenumbers\":\"strict\",\"coloraxis\":{\"colorbar\":{\"outlinewidth\":0,\"ticks\":\"\"}},\"colorscale\":{\"diverging\":[[0,\"#8e0152\"],[0.1,\"#c51b7d\"],[0.2,\"#de77ae\"],[0.3,\"#f1b6da\"],[0.4,\"#fde0ef\"],[0.5,\"#f7f7f7\"],[0.6,\"#e6f5d0\"],[0.7,\"#b8e186\"],[0.8,\"#7fbc41\"],[0.9,\"#4d9221\"],[1,\"#276419\"]],\"sequential\":[[0.0,\"#0d0887\"],[0.1111111111111111,\"#46039f\"],[0.2222222222222222,\"#7201a8\"],[0.3333333333333333,\"#9c179e\"],[0.4444444444444444,\"#bd3786\"],[0.5555555555555556,\"#d8576b\"],[0.6666666666666666,\"#ed7953\"],[0.7777777777777778,\"#fb9f3a\"],[0.8888888888888888,\"#fdca26\"],[1.0,\"#f0f921\"]],\"sequentialminus\":[[0.0,\"#0d0887\"],[0.1111111111111111,\"#46039f\"],[0.2222222222222222,\"#7201a8\"],[0.3333333333333333,\"#9c179e\"],[0.4444444444444444,\"#bd3786\"],[0.5555555555555556,\"#d8576b\"],[0.6666666666666666,\"#ed7953\"],[0.7777777777777778,\"#fb9f3a\"],[0.8888888888888888,\"#fdca26\"],[1.0,\"#f0f921\"]]},\"colorway\":[\"#636efa\",\"#EF553B\",\"#00cc96\",\"#ab63fa\",\"#FFA15A\",\"#19d3f3\",\"#FF6692\",\"#B6E880\",\"#FF97FF\",\"#FECB52\"],\"font\":{\"color\":\"#2a3f5f\"},\"geo\":{\"bgcolor\":\"white\",\"lakecolor\":\"white\",\"landcolor\":\"#E5ECF6\",\"showlakes\":true,\"showland\":true,\"subunitcolor\":\"white\"},\"hoverlabel\":{\"align\":\"left\"},\"hovermode\":\"closest\",\"mapbox\":{\"style\":\"light\"},\"paper_bgcolor\":\"white\",\"plot_bgcolor\":\"#E5ECF6\",\"polar\":{\"angularaxis\":{\"gridcolor\":\"white\",\"linecolor\":\"white\",\"ticks\":\"\"},\"bgcolor\":\"#E5ECF6\",\"radialaxis\":{\"gridcolor\":\"white\",\"linecolor\":\"white\",\"ticks\":\"\"}},\"scene\":{\"xaxis\":{\"backgroundcolor\":\"#E5ECF6\",\"gridcolor\":\"white\",\"gridwidth\":2,\"linecolor\":\"white\",\"showbackground\":true,\"ticks\":\"\",\"zerolinecolor\":\"white\"},\"yaxis\":{\"backgroundcolor\":\"#E5ECF6\",\"gridcolor\":\"white\",\"gridwidth\":2,\"linecolor\":\"white\",\"showbackground\":true,\"ticks\":\"\",\"zerolinecolor\":\"white\"},\"zaxis\":{\"backgroundcolor\":\"#E5ECF6\",\"gridcolor\":\"white\",\"gridwidth\":2,\"linecolor\":\"white\",\"showbackground\":true,\"ticks\":\"\",\"zerolinecolor\":\"white\"}},\"shapedefaults\":{\"line\":{\"color\":\"#2a3f5f\"}},\"ternary\":{\"aaxis\":{\"gridcolor\":\"white\",\"linecolor\":\"white\",\"ticks\":\"\"},\"baxis\":{\"gridcolor\":\"white\",\"linecolor\":\"white\",\"ticks\":\"\"},\"bgcolor\":\"#E5ECF6\",\"caxis\":{\"gridcolor\":\"white\",\"linecolor\":\"white\",\"ticks\":\"\"}},\"title\":{\"x\":0.05},\"xaxis\":{\"automargin\":true,\"gridcolor\":\"white\",\"linecolor\":\"white\",\"ticks\":\"\",\"title\":{\"standoff\":15},\"zerolinecolor\":\"white\",\"zerolinewidth\":2},\"yaxis\":{\"automargin\":true,\"gridcolor\":\"white\",\"linecolor\":\"white\",\"ticks\":\"\",\"title\":{\"standoff\":15},\"zerolinecolor\":\"white\",\"zerolinewidth\":2}}},\"xaxis\":{\"anchor\":\"y\",\"domain\":[0.0,1.0],\"title\":{\"text\":\"x\"}},\"yaxis\":{\"anchor\":\"x\",\"domain\":[0.0,1.0],\"title\":{\"text\":\"y\"},\"categoryorder\":\"total ascending\"},\"legend\":{\"tracegroupgap\":0},\"margin\":{\"t\":60},\"barmode\":\"stack\"},                        {\"responsive\": true}                    ).then(function(){\n",
       "                            \n",
       "var gd = document.getElementById('2f69ecaf-e06b-4784-8eaf-4ff5895d1304');\n",
       "var x = new MutationObserver(function (mutations, observer) {{\n",
       "        var display = window.getComputedStyle(gd).display;\n",
       "        if (!display || display === 'none') {{\n",
       "            console.log([gd, 'removed!']);\n",
       "            Plotly.purge(gd);\n",
       "            observer.disconnect();\n",
       "        }}\n",
       "}});\n",
       "\n",
       "// Listen for the removal of the full notebook cells\n",
       "var notebookContainer = gd.closest('#notebook-container');\n",
       "if (notebookContainer) {{\n",
       "    x.observe(notebookContainer, {childList: true});\n",
       "}}\n",
       "\n",
       "// Listen for the clearing of the current output cell\n",
       "var outputEl = gd.closest('.output');\n",
       "if (outputEl) {{\n",
       "    x.observe(outputEl, {childList: true});\n",
       "}}\n",
       "\n",
       "                        })                };                });            </script>        </div>"
      ]
     },
     "metadata": {},
     "output_type": "display_data"
    }
   ],
   "source": [
    "import plotly.express as px\n",
    "\n",
    "fig = px.bar(y=fdist.index, x=fdist.values)\n",
    "\n",
    "# sort values\n",
    "fig.update_layout(barmode='stack', yaxis={'categoryorder':'total ascending'})\n",
    "\n",
    "# show plot\n",
    "fig.show()"
   ]
  },
  {
   "cell_type": "markdown",
   "id": "c01a39dd",
   "metadata": {},
   "source": [
    "### Search specific words"
   ]
  },
  {
   "cell_type": "code",
   "execution_count": 161,
   "id": "a0858328",
   "metadata": {},
   "outputs": [
    {
     "data": {
      "text/plain": [
       "24198"
      ]
     },
     "execution_count": 161,
     "metadata": {},
     "output_type": "execute_result"
    }
   ],
   "source": [
    "# show frequency of a specific word\n",
    "fd[\"fake\"]"
   ]
  },
  {
   "cell_type": "markdown",
   "id": "30311f35",
   "metadata": {},
   "source": [
    "### Sentiment Analysis"
   ]
  },
  {
   "cell_type": "markdown",
   "id": "ca2d6e98",
   "metadata": {},
   "source": [
    "### VADER lexicon\n",
    "nltk provides a simple rule-based model for general sentiment analysis called VADER, which stands for \"Valence Aware Dictionary and Sentiment Reasoner\" (Hutto & Gilbert, 2014)."
   ]
  },
  {
   "cell_type": "code",
   "execution_count": 162,
   "id": "9528ec6a",
   "metadata": {},
   "outputs": [
    {
     "name": "stderr",
     "output_type": "stream",
     "text": [
      "[nltk_data] Downloading package vader_lexicon to C:\\Users\\Forge-15\n",
      "[nltk_data]     1650\\AppData\\Roaming\\nltk_data...\n"
     ]
    },
    {
     "data": {
      "text/plain": [
       "True"
      ]
     },
     "execution_count": 162,
     "metadata": {},
     "output_type": "execute_result"
    }
   ],
   "source": [
    "nltk.download(\"vader_lexicon\")"
   ]
  },
  {
   "cell_type": "markdown",
   "id": "2f3a8ee4",
   "metadata": {},
   "source": [
    "### Sentiment"
   ]
  },
  {
   "cell_type": "markdown",
   "id": "b5d8e2e2",
   "metadata": {},
   "source": [
    "### Sentiment Intensity Analyzer\n",
    "initialize an object of SentimentIntensityAnalyzer with name \"analyzer\":"
   ]
  },
  {
   "cell_type": "code",
   "execution_count": 163,
   "id": "f34fe377",
   "metadata": {},
   "outputs": [],
   "source": [
    "from nltk.sentiment import SentimentIntensityAnalyzer\n",
    "\n",
    "analyzer = SentimentIntensityAnalyzer()"
   ]
  },
  {
   "cell_type": "markdown",
   "id": "722c6397",
   "metadata": {},
   "source": [
    "### Polarity scores\n",
    "Use the polarity_scores method:"
   ]
  },
  {
   "cell_type": "code",
   "execution_count": 165,
   "id": "83065d2a",
   "metadata": {},
   "outputs": [
    {
     "data": {
      "text/html": [
       "<div>\n",
       "<style scoped>\n",
       "    .dataframe tbody tr th:only-of-type {\n",
       "        vertical-align: middle;\n",
       "    }\n",
       "\n",
       "    .dataframe tbody tr th {\n",
       "        vertical-align: top;\n",
       "    }\n",
       "\n",
       "    .dataframe thead th {\n",
       "        text-align: right;\n",
       "    }\n",
       "</style>\n",
       "<table border=\"1\" class=\"dataframe\">\n",
       "  <thead>\n",
       "    <tr style=\"text-align: right;\">\n",
       "      <th></th>\n",
       "      <th>review</th>\n",
       "      <th>rating</th>\n",
       "      <th>thumbs_up</th>\n",
       "      <th>app</th>\n",
       "      <th>text_token</th>\n",
       "      <th>polarity</th>\n",
       "    </tr>\n",
       "  </thead>\n",
       "  <tbody>\n",
       "    <tr>\n",
       "      <th>0</th>\n",
       "      <td>on this app i cant find a partner</td>\n",
       "      <td>5</td>\n",
       "      <td>0</td>\n",
       "      <td>Tinder</td>\n",
       "      <td>cant find partner</td>\n",
       "      <td>{'neg': 0.0, 'neu': 1.0, 'pos': 0.0, 'compound...</td>\n",
       "    </tr>\n",
       "    <tr>\n",
       "      <th>1</th>\n",
       "      <td>tinder would be so much better if we could spe...</td>\n",
       "      <td>3</td>\n",
       "      <td>0</td>\n",
       "      <td>Tinder</td>\n",
       "      <td>would much better could specify race looking i...</td>\n",
       "      <td>{'neg': 0.0, 'neu': 0.791, 'pos': 0.209, 'comp...</td>\n",
       "    </tr>\n",
       "    <tr>\n",
       "      <th>2</th>\n",
       "      <td>still doesn't correctly notify matches or mess...</td>\n",
       "      <td>1</td>\n",
       "      <td>0</td>\n",
       "      <td>Tinder</td>\n",
       "      <td>still correctly notify matches messages monopo...</td>\n",
       "      <td>{'neg': 0.214, 'neu': 0.68, 'pos': 0.107, 'com...</td>\n",
       "    </tr>\n",
       "    <tr>\n",
       "      <th>3</th>\n",
       "      <td>got banned because i updated my bio to say \"i ...</td>\n",
       "      <td>2</td>\n",
       "      <td>0</td>\n",
       "      <td>Tinder</td>\n",
       "      <td>banned updated bio feel like girls looking plu...</td>\n",
       "      <td>{'neg': 0.292, 'neu': 0.594, 'pos': 0.114, 'co...</td>\n",
       "    </tr>\n",
       "    <tr>\n",
       "      <th>4</th>\n",
       "      <td>love it!</td>\n",
       "      <td>5</td>\n",
       "      <td>0</td>\n",
       "      <td>Tinder</td>\n",
       "      <td>love</td>\n",
       "      <td>{'neg': 0.0, 'neu': 0.0, 'pos': 1.0, 'compound...</td>\n",
       "    </tr>\n",
       "  </tbody>\n",
       "</table>\n",
       "</div>"
      ],
      "text/plain": [
       "                                              review  rating  thumbs_up  \\\n",
       "0                  on this app i cant find a partner       5          0   \n",
       "1  tinder would be so much better if we could spe...       3          0   \n",
       "2  still doesn't correctly notify matches or mess...       1          0   \n",
       "3  got banned because i updated my bio to say \"i ...       2          0   \n",
       "4                                           love it!       5          0   \n",
       "\n",
       "      app                                         text_token  \\\n",
       "0  Tinder                                  cant find partner   \n",
       "1  Tinder  would much better could specify race looking i...   \n",
       "2  Tinder  still correctly notify matches messages monopo...   \n",
       "3  Tinder  banned updated bio feel like girls looking plu...   \n",
       "4  Tinder                                               love   \n",
       "\n",
       "                                            polarity  \n",
       "0  {'neg': 0.0, 'neu': 1.0, 'pos': 0.0, 'compound...  \n",
       "1  {'neg': 0.0, 'neu': 0.791, 'pos': 0.209, 'comp...  \n",
       "2  {'neg': 0.214, 'neu': 0.68, 'pos': 0.107, 'com...  \n",
       "3  {'neg': 0.292, 'neu': 0.594, 'pos': 0.114, 'co...  \n",
       "4  {'neg': 0.0, 'neu': 0.0, 'pos': 1.0, 'compound...  "
      ]
     },
     "execution_count": 165,
     "metadata": {},
     "output_type": "execute_result"
    }
   ],
   "source": [
    "word_analyst['polarity'] = word_analyst['text_token'].apply(lambda x: analyzer.polarity_scores(x))\n",
    "word_analyst.head()"
   ]
  },
  {
   "cell_type": "markdown",
   "id": "1e43c939",
   "metadata": {},
   "source": [
    "### Transform data"
   ]
  },
  {
   "cell_type": "code",
   "execution_count": 166,
   "id": "bab7e82d",
   "metadata": {},
   "outputs": [
    {
     "data": {
      "text/html": [
       "<div>\n",
       "<style scoped>\n",
       "    .dataframe tbody tr th:only-of-type {\n",
       "        vertical-align: middle;\n",
       "    }\n",
       "\n",
       "    .dataframe tbody tr th {\n",
       "        vertical-align: top;\n",
       "    }\n",
       "\n",
       "    .dataframe thead th {\n",
       "        text-align: right;\n",
       "    }\n",
       "</style>\n",
       "<table border=\"1\" class=\"dataframe\">\n",
       "  <thead>\n",
       "    <tr style=\"text-align: right;\">\n",
       "      <th></th>\n",
       "      <th>review</th>\n",
       "      <th>text_token</th>\n",
       "      <th>polarity</th>\n",
       "      <th>neg</th>\n",
       "      <th>neu</th>\n",
       "      <th>pos</th>\n",
       "      <th>compound</th>\n",
       "    </tr>\n",
       "  </thead>\n",
       "  <tbody>\n",
       "    <tr>\n",
       "      <th>0</th>\n",
       "      <td>on this app i cant find a partner</td>\n",
       "      <td>cant find partner</td>\n",
       "      <td>{'neg': 0.0, 'neu': 1.0, 'pos': 0.0, 'compound...</td>\n",
       "      <td>0.000</td>\n",
       "      <td>1.000</td>\n",
       "      <td>0.000</td>\n",
       "      <td>0.0000</td>\n",
       "    </tr>\n",
       "    <tr>\n",
       "      <th>1</th>\n",
       "      <td>tinder would be so much better if we could spe...</td>\n",
       "      <td>would much better could specify race looking i...</td>\n",
       "      <td>{'neg': 0.0, 'neu': 0.791, 'pos': 0.209, 'comp...</td>\n",
       "      <td>0.000</td>\n",
       "      <td>0.791</td>\n",
       "      <td>0.209</td>\n",
       "      <td>0.4404</td>\n",
       "    </tr>\n",
       "    <tr>\n",
       "      <th>2</th>\n",
       "      <td>still doesn't correctly notify matches or mess...</td>\n",
       "      <td>still correctly notify matches messages monopo...</td>\n",
       "      <td>{'neg': 0.214, 'neu': 0.68, 'pos': 0.107, 'com...</td>\n",
       "      <td>0.214</td>\n",
       "      <td>0.680</td>\n",
       "      <td>0.107</td>\n",
       "      <td>-0.7579</td>\n",
       "    </tr>\n",
       "    <tr>\n",
       "      <th>3</th>\n",
       "      <td>got banned because i updated my bio to say \"i ...</td>\n",
       "      <td>banned updated bio feel like girls looking plu...</td>\n",
       "      <td>{'neg': 0.292, 'neu': 0.594, 'pos': 0.114, 'co...</td>\n",
       "      <td>0.292</td>\n",
       "      <td>0.594</td>\n",
       "      <td>0.114</td>\n",
       "      <td>-0.5994</td>\n",
       "    </tr>\n",
       "    <tr>\n",
       "      <th>4</th>\n",
       "      <td>love it!</td>\n",
       "      <td>love</td>\n",
       "      <td>{'neg': 0.0, 'neu': 0.0, 'pos': 1.0, 'compound...</td>\n",
       "      <td>0.000</td>\n",
       "      <td>0.000</td>\n",
       "      <td>1.000</td>\n",
       "      <td>0.6369</td>\n",
       "    </tr>\n",
       "  </tbody>\n",
       "</table>\n",
       "</div>"
      ],
      "text/plain": [
       "                                              review  \\\n",
       "0                  on this app i cant find a partner   \n",
       "1  tinder would be so much better if we could spe...   \n",
       "2  still doesn't correctly notify matches or mess...   \n",
       "3  got banned because i updated my bio to say \"i ...   \n",
       "4                                           love it!   \n",
       "\n",
       "                                          text_token  \\\n",
       "0                                  cant find partner   \n",
       "1  would much better could specify race looking i...   \n",
       "2  still correctly notify matches messages monopo...   \n",
       "3  banned updated bio feel like girls looking plu...   \n",
       "4                                               love   \n",
       "\n",
       "                                            polarity    neg    neu    pos  \\\n",
       "0  {'neg': 0.0, 'neu': 1.0, 'pos': 0.0, 'compound...  0.000  1.000  0.000   \n",
       "1  {'neg': 0.0, 'neu': 0.791, 'pos': 0.209, 'comp...  0.000  0.791  0.209   \n",
       "2  {'neg': 0.214, 'neu': 0.68, 'pos': 0.107, 'com...  0.214  0.680  0.107   \n",
       "3  {'neg': 0.292, 'neu': 0.594, 'pos': 0.114, 'co...  0.292  0.594  0.114   \n",
       "4  {'neg': 0.0, 'neu': 0.0, 'pos': 1.0, 'compound...  0.000  0.000  1.000   \n",
       "\n",
       "   compound  \n",
       "0    0.0000  \n",
       "1    0.4404  \n",
       "2   -0.7579  \n",
       "3   -0.5994  \n",
       "4    0.6369  "
      ]
     },
     "execution_count": 166,
     "metadata": {},
     "output_type": "execute_result"
    }
   ],
   "source": [
    "# Change data structure\n",
    "df_polarity = pd.concat([word_analyst.drop(['rating', 'thumbs_up', 'app'], axis=1),\n",
    "                        word_analyst['polarity'].apply(pd.Series)], axis=1)\n",
    "df_polarity.head()"
   ]
  },
  {
   "cell_type": "code",
   "execution_count": 167,
   "id": "1ca871b5",
   "metadata": {},
   "outputs": [
    {
     "data": {
      "text/html": [
       "<div>\n",
       "<style scoped>\n",
       "    .dataframe tbody tr th:only-of-type {\n",
       "        vertical-align: middle;\n",
       "    }\n",
       "\n",
       "    .dataframe tbody tr th {\n",
       "        vertical-align: top;\n",
       "    }\n",
       "\n",
       "    .dataframe thead th {\n",
       "        text-align: right;\n",
       "    }\n",
       "</style>\n",
       "<table border=\"1\" class=\"dataframe\">\n",
       "  <thead>\n",
       "    <tr style=\"text-align: right;\">\n",
       "      <th></th>\n",
       "      <th>review</th>\n",
       "      <th>text_token</th>\n",
       "      <th>polarity</th>\n",
       "      <th>neg</th>\n",
       "      <th>neu</th>\n",
       "      <th>pos</th>\n",
       "      <th>compound</th>\n",
       "      <th>sentiment</th>\n",
       "    </tr>\n",
       "  </thead>\n",
       "  <tbody>\n",
       "    <tr>\n",
       "      <th>0</th>\n",
       "      <td>on this app i cant find a partner</td>\n",
       "      <td>cant find partner</td>\n",
       "      <td>{'neg': 0.0, 'neu': 1.0, 'pos': 0.0, 'compound...</td>\n",
       "      <td>0.000</td>\n",
       "      <td>1.000</td>\n",
       "      <td>0.000</td>\n",
       "      <td>0.0000</td>\n",
       "      <td>neutral</td>\n",
       "    </tr>\n",
       "    <tr>\n",
       "      <th>1</th>\n",
       "      <td>tinder would be so much better if we could spe...</td>\n",
       "      <td>would much better could specify race looking i...</td>\n",
       "      <td>{'neg': 0.0, 'neu': 0.791, 'pos': 0.209, 'comp...</td>\n",
       "      <td>0.000</td>\n",
       "      <td>0.791</td>\n",
       "      <td>0.209</td>\n",
       "      <td>0.4404</td>\n",
       "      <td>positive</td>\n",
       "    </tr>\n",
       "    <tr>\n",
       "      <th>2</th>\n",
       "      <td>still doesn't correctly notify matches or mess...</td>\n",
       "      <td>still correctly notify matches messages monopo...</td>\n",
       "      <td>{'neg': 0.214, 'neu': 0.68, 'pos': 0.107, 'com...</td>\n",
       "      <td>0.214</td>\n",
       "      <td>0.680</td>\n",
       "      <td>0.107</td>\n",
       "      <td>-0.7579</td>\n",
       "      <td>negative</td>\n",
       "    </tr>\n",
       "    <tr>\n",
       "      <th>3</th>\n",
       "      <td>got banned because i updated my bio to say \"i ...</td>\n",
       "      <td>banned updated bio feel like girls looking plu...</td>\n",
       "      <td>{'neg': 0.292, 'neu': 0.594, 'pos': 0.114, 'co...</td>\n",
       "      <td>0.292</td>\n",
       "      <td>0.594</td>\n",
       "      <td>0.114</td>\n",
       "      <td>-0.5994</td>\n",
       "      <td>negative</td>\n",
       "    </tr>\n",
       "    <tr>\n",
       "      <th>4</th>\n",
       "      <td>love it!</td>\n",
       "      <td>love</td>\n",
       "      <td>{'neg': 0.0, 'neu': 0.0, 'pos': 1.0, 'compound...</td>\n",
       "      <td>0.000</td>\n",
       "      <td>0.000</td>\n",
       "      <td>1.000</td>\n",
       "      <td>0.6369</td>\n",
       "      <td>positive</td>\n",
       "    </tr>\n",
       "  </tbody>\n",
       "</table>\n",
       "</div>"
      ],
      "text/plain": [
       "                                              review  \\\n",
       "0                  on this app i cant find a partner   \n",
       "1  tinder would be so much better if we could spe...   \n",
       "2  still doesn't correctly notify matches or mess...   \n",
       "3  got banned because i updated my bio to say \"i ...   \n",
       "4                                           love it!   \n",
       "\n",
       "                                          text_token  \\\n",
       "0                                  cant find partner   \n",
       "1  would much better could specify race looking i...   \n",
       "2  still correctly notify matches messages monopo...   \n",
       "3  banned updated bio feel like girls looking plu...   \n",
       "4                                               love   \n",
       "\n",
       "                                            polarity    neg    neu    pos  \\\n",
       "0  {'neg': 0.0, 'neu': 1.0, 'pos': 0.0, 'compound...  0.000  1.000  0.000   \n",
       "1  {'neg': 0.0, 'neu': 0.791, 'pos': 0.209, 'comp...  0.000  0.791  0.209   \n",
       "2  {'neg': 0.214, 'neu': 0.68, 'pos': 0.107, 'com...  0.214  0.680  0.107   \n",
       "3  {'neg': 0.292, 'neu': 0.594, 'pos': 0.114, 'co...  0.292  0.594  0.114   \n",
       "4  {'neg': 0.0, 'neu': 0.0, 'pos': 1.0, 'compound...  0.000  0.000  1.000   \n",
       "\n",
       "   compound sentiment  \n",
       "0    0.0000   neutral  \n",
       "1    0.4404  positive  \n",
       "2   -0.7579  negative  \n",
       "3   -0.5994  negative  \n",
       "4    0.6369  positive  "
      ]
     },
     "execution_count": 167,
     "metadata": {},
     "output_type": "execute_result"
    }
   ],
   "source": [
    "# Create new variable with sentiment \"neutral\", \"positive\", and \"negative\"\n",
    "df_polarity['sentiment'] = df_polarity['compound'].apply(lambda x: 'positive' if x>0 else 'neutral' if x==0 else 'negative')\n",
    "df_polarity.head()"
   ]
  },
  {
   "cell_type": "markdown",
   "id": "85b22447",
   "metadata": {},
   "source": [
    "### Analyze data"
   ]
  },
  {
   "cell_type": "code",
   "execution_count": 169,
   "id": "5dab16af",
   "metadata": {},
   "outputs": [
    {
     "data": {
      "text/plain": [
       "array(['as a man, as a gay man, my personal experience with this app isn\\'t indicative of everyone\\'s experience on here. i feel like each gender, each sexuality, each person will have their own unique experience- most of which will be rather poor and uneventful. unless you\\'re a girl or are extremely attractive, most matches you get will be by people who are lukewarm toward you. this means that, sure, you\\'ve matched with them, but you\\'ll never get a response. and the reason people like you when they may not be interested is because the app is designed to make people do that. the app will tell you whenever you missed a match, but here\\'s the thing- if you didn\\'t like them in the first place, what makes their desire change anything? okay, this person likes me, but i don\\'t like them so... why bother telling me? the app preys on peoples\\' desire for attention. \"ohhh! someone likes me, don\\'t i feel desired.\" and that\\'s really what the app boils down to- attention. this app is less a dating app, and more like an ego boost for people who have low self-esteem. i don\\'t have low self-esteem, so i really didn\\'t care *how* many people liked me, but rather *who* i had mutual interest in. and that\\'s where the app fails. the app primarily focuses on physical attractiveness. you look at pictures first, and then, if you want, check what they\\'ve written about themselves. and, just like in every dating app forever, people make themselves out to be the most bland milktoast boring person possible when writing about themselves so as not to scare any possible hookup away. \"oh, you know, i just like watching movies, and i love dogs, and laughing!\" brenda, most everyone loves those things- tell us about how you enjoy putting mayonnaise on your pickles, much to everyone\\'s disgust. but, none of that really matters, since this app is designed to be a superficial ego-boost platform. i matched with a number of people, but was only ever able to talk to a few- and of those few i went on two dates. neither worked out, because both were looking for things that i was genuinely not interested in- and i would have known this if their profiles were more than \"loves to laugh, hike, and pet doggos.\" look, online dating already sucks, and tinder makes it that much worse. i wouldn\\'t recommend it unless you need the ego boost. post the most flattering pictures you have, probably of you in remote locations to give the impression that you have the time/money to jetset, and write about how you love to hike, and laugh, and love dogs. boom, people will like you, but good luck getting a decent relationship out of that.',\n",
       "       'man gay man personal experience indicative everyone experience feel like gender sexuality person unique experience rather poor uneventful unless extremely attractive matches get lukewarm toward means matched never get response like may interested designed make whenever missed match thing like first place makes desire change anything okay person likes like bother telling preys peoples desire attention ohhh someone likes feel desired really boils attention less like ego boost low self esteem low self esteem really care many liked rather mutual interest fails primarily focuses physical attractiveness look pictures first want check written like every forever make bland milktoast boring person possible writing scare possible hookup away know like watching movies love dogs laughing brenda everyone loves things enjoy putting mayonnaise pickles much everyone disgust none really matters since designed superficial ego boost platform matched ever able talk went two dates neither worked looking things genuinely interested would known profiles loves laugh hike pet doggos look online already sucks makes much worse recommend unless need ego boost post flattering pictures probably remote locations give impression money jetset write love hike laugh love dogs boom like good luck getting decent relationship',\n",
       "       {'neg': 0.111, 'neu': 0.493, 'pos': 0.396, 'compound': 0.9973},\n",
       "       0.111, 0.493, 0.396, 0.9973, 'positive'], dtype=object)"
      ]
     },
     "execution_count": 169,
     "metadata": {},
     "output_type": "execute_result"
    }
   ],
   "source": [
    "# Review with the highest positive sentiment\n",
    "df_polarity.loc[df_polarity['compound'].idxmax()].values"
   ]
  },
  {
   "cell_type": "code",
   "execution_count": 170,
   "id": "c2403f16",
   "metadata": {},
   "outputs": [
    {
     "data": {
      "text/plain": [
       "array([\"here's how the profiles go... fake fake fake fake fake fake fake fake fake \\nfake fake fake fake fake fake fake fake fake fake fake fake fake fake fake \\nfake fake fake fake fake fake fake fake fake fake fake fake fake fake fake \\nfake fake fake real?? oh no wait it's fake too! why can't you verify the \\nemail address used for the facebook account??? it would delay the spammers \\nat least..\",\n",
       "       'profiles fake fake fake fake fake fake fake fake fake fake fake fake fake fake fake fake fake fake fake fake fake fake fake fake fake fake fake fake fake fake fake fake fake fake fake fake fake fake fake fake fake fake real wait fake verify email address facebook would delay spammers least',\n",
       "       {'neg': 0.939, 'neu': 0.061, 'pos': 0.0, 'compound': -0.9991},\n",
       "       0.939, 0.061, 0.0, -0.9991, 'negative'], dtype=object)"
      ]
     },
     "execution_count": 170,
     "metadata": {},
     "output_type": "execute_result"
    }
   ],
   "source": [
    "df_polarity.loc[df_polarity['compound'].idxmin()].values"
   ]
  },
  {
   "cell_type": "markdown",
   "id": "775a6074",
   "metadata": {},
   "source": [
    "### Visualize data"
   ]
  },
  {
   "cell_type": "code",
   "execution_count": 171,
   "id": "cb012fa5",
   "metadata": {},
   "outputs": [
    {
     "data": {
      "text/plain": [
       "<AxesSubplot:xlabel='count', ylabel='sentiment'>"
      ]
     },
     "execution_count": 171,
     "metadata": {},
     "output_type": "execute_result"
    },
    {
     "data": {
      "image/png": "[encoded data removed]",
      "text/plain": [
       "<Figure size 432x288 with 1 Axes>"
      ]
     },
     "metadata": {},
     "output_type": "display_data"
    }
   ],
   "source": [
    "# Numbers of review\n",
    "sb.countplot(y='sentiment',\n",
    "            data=df_polarity,\n",
    "            palette=['#b2d8d8',\"#008080\", '#db3d13'])"
   ]
  },
  {
   "cell_type": "code",
   "execution_count": null,
   "id": "e5f95413",
   "metadata": {},
   "outputs": [],
   "source": [
    "# Öineplot need time data\n",
    "g = sb.lineplot(x)"
   ]
  },
  {
   "cell_type": "code",
   "execution_count": 173,
   "id": "5cd37ff6",
   "metadata": {},
   "outputs": [
    {
     "data": {
      "text/plain": [
       "<AxesSubplot:xlabel='sentiment', ylabel='compound'>"
      ]
     },
     "execution_count": 173,
     "metadata": {},
     "output_type": "execute_result"
    },
    {
     "data": {
      "image/png": "[encoded data removed]",
      "text/plain": [
       "<Figure size 432x288 with 1 Axes>"
      ]
     },
     "metadata": {},
     "output_type": "display_data"
    }
   ],
   "source": [
    "# Boxplot\n",
    "sb.boxplot(y='compound',\n",
    "           x='sentiment',\n",
    "            data=df_polarity,\n",
    "            palette=['#b2d8d8',\"#008080\", '#db3d13'])"
   ]
  },
  {
   "cell_type": "code",
   "execution_count": null,
   "id": "06b4577c",
   "metadata": {},
   "outputs": [],
   "source": []
  }
 ],
 "metadata": {
  "kernelspec": {
   "display_name": "Python 3 (ipykernel)",
   "language": "python",
   "name": "python3"
  },
  "language_info": {
   "codemirror_mode": {
    "name": "ipython",
    "version": 3
   },
   "file_extension": ".py",
   "mimetype": "text/x-python",
   "name": "python",
   "nbconvert_exporter": "python",
   "pygments_lexer": "ipython3",
   "version": "3.8.11"
  }
 },
 "nbformat": 4,
 "nbformat_minor": 5
}
